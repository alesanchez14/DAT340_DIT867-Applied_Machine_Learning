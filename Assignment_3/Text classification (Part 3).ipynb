{
 "cells": [
  {
   "cell_type": "markdown",
   "metadata": {},
   "source": [
    "# Programming Assignment 3c: Text classification (Part 3)"
   ]
  },
  {
   "cell_type": "markdown",
   "metadata": {},
   "source": [
    "- Irene Cánovas Vidal\n",
    "- Alejandra Sánchez Torres"
   ]
  },
  {
   "cell_type": "markdown",
   "metadata": {},
   "source": [
    "## Load required libraries"
   ]
  },
  {
   "cell_type": "code",
   "execution_count": 1,
   "metadata": {},
   "outputs": [
    {
     "name": "stderr",
     "output_type": "stream",
     "text": [
      "/opt/anaconda3/lib/python3.8/site-packages/tqdm/auto.py:21: TqdmWarning: IProgress not found. Please update jupyter and ipywidgets. See https://ipywidgets.readthedocs.io/en/stable/user_install.html\n",
      "  from .autonotebook import tqdm as notebook_tqdm\n",
      "[nltk_data] Downloading package punkt to\n",
      "[nltk_data]     /Users/martavalero/nltk_data...\n",
      "[nltk_data]   Package punkt is already up-to-date!\n",
      "[nltk_data] Downloading package wordnet to\n",
      "[nltk_data]     /Users/martavalero/nltk_data...\n",
      "[nltk_data]   Package wordnet is already up-to-date!\n"
     ]
    }
   ],
   "source": [
    "import re\n",
    "from string import digits\n",
    "\n",
    "import altair as alt\n",
    "import matplotlib.pyplot as plt\n",
    "import nltk\n",
    "import numpy as np\n",
    "import pandas as pd\n",
    "import seaborn as sns\n",
    "import warnings\n",
    "from sklearn import metrics\n",
    "from sklearn.dummy import DummyClassifier\n",
    "from sklearn.feature_extraction.text import TfidfVectorizer\n",
    "from sklearn.inspection import permutation_importance\n",
    "from sklearn.metrics import (accuracy_score, confusion_matrix, ConfusionMatrixDisplay, roc_curve, roc_auc_score)\n",
    "from sklearn.model_selection import cross_val_score, train_test_split, GridSearchCV\n",
    "from sklearn.multiclass import OneVsRestClassifier\n",
    "from sklearn.naive_bayes import BernoulliNB, MultinomialNB\n",
    "from sklearn.svm import LinearSVC, SVC\n",
    "\n",
    "import stanza\n",
    "from nltk import word_tokenize\n",
    "from nltk.stem import WordNetLemmatizer\n",
    "from nltk.stem.porter import PorterStemmer\n",
    "from sklearn.metrics import cohen_kappa_score\n",
    "from sklearn.metrics.pairwise import linear_kernel\n",
    "from sklearn.pipeline import make_pipeline\n",
    "\n",
    "nltk.download(\"punkt\")\n",
    "nltk.download(\"wordnet\")\n",
    "\n",
    "warnings.filterwarnings(\"ignore\")"
   ]
  },
  {
   "cell_type": "markdown",
   "metadata": {},
   "source": [
    "## Load train and test data"
   ]
  },
  {
   "cell_type": "code",
   "execution_count": 2,
   "metadata": {},
   "outputs": [
    {
     "data": {
      "text/html": [
       "<div>\n",
       "<style scoped>\n",
       "    .dataframe tbody tr th:only-of-type {\n",
       "        vertical-align: middle;\n",
       "    }\n",
       "\n",
       "    .dataframe tbody tr th {\n",
       "        vertical-align: top;\n",
       "    }\n",
       "\n",
       "    .dataframe thead th {\n",
       "        text-align: right;\n",
       "    }\n",
       "</style>\n",
       "<table border=\"1\" class=\"dataframe\">\n",
       "  <thead>\n",
       "    <tr style=\"text-align: right;\">\n",
       "      <th></th>\n",
       "      <th>Annotations</th>\n",
       "      <th>Reviews</th>\n",
       "    </tr>\n",
       "  </thead>\n",
       "  <tbody>\n",
       "    <tr>\n",
       "      <th>0</th>\n",
       "      <td>0/0</td>\n",
       "      <td>Ordered my food the hole meal looked dead. pla...</td>\n",
       "    </tr>\n",
       "    <tr>\n",
       "      <th>1</th>\n",
       "      <td>1/1</td>\n",
       "      <td>We stopped her whilst walking in the Haga area...</td>\n",
       "    </tr>\n",
       "    <tr>\n",
       "      <th>2</th>\n",
       "      <td>0/0</td>\n",
       "      <td>Bad experience, On 23/03/19 Myself and my part...</td>\n",
       "    </tr>\n",
       "    <tr>\n",
       "      <th>3</th>\n",
       "      <td>0/0</td>\n",
       "      <td>Extremely underwhelming experience here last n...</td>\n",
       "    </tr>\n",
       "    <tr>\n",
       "      <th>4</th>\n",
       "      <td>0/0</td>\n",
       "      <td>Waited 30 minutes to get a table…that was ok. ...</td>\n",
       "    </tr>\n",
       "  </tbody>\n",
       "</table>\n",
       "</div>"
      ],
      "text/plain": [
       "  Annotations                                            Reviews\n",
       "0         0/0  Ordered my food the hole meal looked dead. pla...\n",
       "1         1/1  We stopped her whilst walking in the Haga area...\n",
       "2         0/0  Bad experience, On 23/03/19 Myself and my part...\n",
       "3         0/0  Extremely underwhelming experience here last n...\n",
       "4         0/0  Waited 30 minutes to get a table…that was ok. ..."
      ]
     },
     "execution_count": 2,
     "metadata": {},
     "output_type": "execute_result"
    }
   ],
   "source": [
    "# load and check train data\n",
    "train_df = pd.read_csv(\"PA3_train.tsv\", names = [\"Annotations\", \"Reviews\"], sep = \"\\t\")\n",
    "train_df.head()"
   ]
  },
  {
   "cell_type": "code",
   "execution_count": 3,
   "metadata": {},
   "outputs": [
    {
     "data": {
      "text/html": [
       "<div>\n",
       "<style scoped>\n",
       "    .dataframe tbody tr th:only-of-type {\n",
       "        vertical-align: middle;\n",
       "    }\n",
       "\n",
       "    .dataframe tbody tr th {\n",
       "        vertical-align: top;\n",
       "    }\n",
       "\n",
       "    .dataframe thead th {\n",
       "        text-align: right;\n",
       "    }\n",
       "</style>\n",
       "<table border=\"1\" class=\"dataframe\">\n",
       "  <thead>\n",
       "    <tr style=\"text-align: right;\">\n",
       "      <th></th>\n",
       "      <th>Annotations</th>\n",
       "      <th>Reviews</th>\n",
       "    </tr>\n",
       "  </thead>\n",
       "  <tbody>\n",
       "    <tr>\n",
       "      <th>0</th>\n",
       "      <td>0</td>\n",
       "      <td>Over all I felt a bit disappointing with above...</td>\n",
       "    </tr>\n",
       "    <tr>\n",
       "      <th>1</th>\n",
       "      <td>1</td>\n",
       "      <td>A wonderful experience!</td>\n",
       "    </tr>\n",
       "    <tr>\n",
       "      <th>2</th>\n",
       "      <td>1</td>\n",
       "      <td>Always very delicious dishes and attentive ser...</td>\n",
       "    </tr>\n",
       "    <tr>\n",
       "      <th>3</th>\n",
       "      <td>1</td>\n",
       "      <td>Amazing as always</td>\n",
       "    </tr>\n",
       "    <tr>\n",
       "      <th>4</th>\n",
       "      <td>1</td>\n",
       "      <td>Amazing food, the aubergine mess and the Tunis...</td>\n",
       "    </tr>\n",
       "  </tbody>\n",
       "</table>\n",
       "</div>"
      ],
      "text/plain": [
       "   Annotations                                            Reviews\n",
       "0            0  Over all I felt a bit disappointing with above...\n",
       "1            1                            A wonderful experience!\n",
       "2            1  Always very delicious dishes and attentive ser...\n",
       "3            1                                  Amazing as always\n",
       "4            1  Amazing food, the aubergine mess and the Tunis..."
      ]
     },
     "execution_count": 3,
     "metadata": {},
     "output_type": "execute_result"
    }
   ],
   "source": [
    "# load and check train data\n",
    "test_df = pd.read_csv(\"PA3_test.tsv\",names = [\"Annotations\", \"Reviews\"], sep = \"\\t\")\n",
    "test_df.head()"
   ]
  },
  {
   "cell_type": "code",
   "execution_count": 4,
   "metadata": {},
   "outputs": [
    {
     "data": {
      "text/plain": [
       "8769"
      ]
     },
     "execution_count": 4,
     "metadata": {},
     "output_type": "execute_result"
    }
   ],
   "source": [
    "train_df.shape[0] + test_df.shape[0]"
   ]
  },
  {
   "cell_type": "markdown",
   "metadata": {},
   "source": [
    "**Data Cleaning**\n",
    "\n",
    "***Clean Reviews***\n",
    "\n",
    "Steps taken for cleaning the reviews:\n",
    "\n",
    "**1. Import libraries**\n",
    "\n",
    "- re library for regular expressions\n",
    "- nltk library to work with language data\n",
    "- download and import english stopwords\n",
    "\n",
    "**2. Create review_cleaning function to**\n",
    "\n",
    "- convert all words to lowercase\n",
    "- remove all emoticons\n",
    "- substitute multiple spaces with single space\n",
    "\n",
    "**3. Create LemmaTokenizer class to**\n",
    "\n",
    "- lemmatize all words in a review that are longer than 1 character and are not punctuations"
   ]
  },
  {
   "cell_type": "markdown",
   "metadata": {},
   "source": [
    "We decided not to use stemming as it did not improve the accuracy of the models (when used alone or along with lemmatization)."
   ]
  },
  {
   "cell_type": "code",
   "execution_count": 5,
   "metadata": {},
   "outputs": [],
   "source": [
    "# function to clean reiews\n",
    "def review_cleaning(review):\n",
    "    \n",
    "    # change to lower case\n",
    "    review = review.lower()\n",
    "\n",
    "    # deconcatinate words\n",
    "    review = re.sub(r\"n\\'t\", \" not\", review)\n",
    "    review = re.sub(r\"\\'re\", \" are\", review)\n",
    "    review = re.sub(r\"\\'s\", \" is\", review)\n",
    "    review = re.sub(r\"\\'d\", \" would\", review)\n",
    "    review = re.sub(r\"\\'ll\", \" will\", review)\n",
    "    review = re.sub(r\"\\'ve\", \" have\", review)\n",
    "    review = re.sub(r\"\\'m\", \" am\", review)\n",
    "\n",
    "    # remove all emojis\n",
    "    emoji_pattern = re.compile(\n",
    "        \"[\"\n",
    "        u\"\\U0001F600-\\U0001F64F\"  # emoticons\n",
    "        u\"\\U0001F300-\\U0001F5FF\"  # symbols & pictographs\n",
    "        u\"\\U0001F680-\\U0001F6FF\"  # transport & map symbols\n",
    "        u\"\\U0001F1E0-\\U0001F1FF\"  # flags (iOS)\n",
    "        u\"\\U000024C2-\\U0001F251\"  # chinese char\n",
    "        u\"\\U00002702-\\U000027B0\"\n",
    "        u\"\\U0001f926-\\U0001f937\"\n",
    "        u\"\\U00010000-\\U0010ffff\"\n",
    "        u\"\\u2600-\\u2B55\"\n",
    "        u\"\\u200d\"\n",
    "        u\"\\u23cf\"\n",
    "        u\"\\u23e9\"\n",
    "        u\"\\u231a\"\n",
    "        u\"\\ufe0f\"  # dingbats\n",
    "        u\"\\u3030\"\n",
    "        \"]+\", flags = re.UNICODE\n",
    "      )\n",
    "    review = emoji_pattern.sub(r\"\", review)\n",
    "\n",
    "    # substitute multiple spaces with single space\n",
    "    review =  re.sub(r\"\\s+\", \" \", review, flags = re.I)\n",
    "\n",
    "    # remove punctuations, URLs, and @:\n",
    "    review = re.sub(r\"(@\\[A-Za-z0-9]+)|([^0-9A-Za-z \\t])|(\\w+:\\/\\/\\S+)|^rt|http.+?\", \" \", review)\n",
    "\n",
    "    # remove digits\n",
    "    review = review.translate(str.maketrans(\"\", \"\", digits))\n",
    "\n",
    "    # lemmatize words\n",
    "    lemmatizer = WordNetLemmatizer()\n",
    "    review = [lemmatizer.lemmatize(t) for t in word_tokenize(review) if len(t) > 1]\n",
    "    review = ' '.join(review)\n",
    "\n",
    "    return review"
   ]
  },
  {
   "cell_type": "code",
   "execution_count": 6,
   "metadata": {},
   "outputs": [
    {
     "data": {
      "text/html": [
       "<div>\n",
       "<style scoped>\n",
       "    .dataframe tbody tr th:only-of-type {\n",
       "        vertical-align: middle;\n",
       "    }\n",
       "\n",
       "    .dataframe tbody tr th {\n",
       "        vertical-align: top;\n",
       "    }\n",
       "\n",
       "    .dataframe thead th {\n",
       "        text-align: right;\n",
       "    }\n",
       "</style>\n",
       "<table border=\"1\" class=\"dataframe\">\n",
       "  <thead>\n",
       "    <tr style=\"text-align: right;\">\n",
       "      <th></th>\n",
       "      <th>Annotations</th>\n",
       "      <th>Reviews</th>\n",
       "      <th>Reviews_Cleaned</th>\n",
       "    </tr>\n",
       "  </thead>\n",
       "  <tbody>\n",
       "    <tr>\n",
       "      <th>0</th>\n",
       "      <td>0/0</td>\n",
       "      <td>Ordered my food the hole meal looked dead. pla...</td>\n",
       "      <td>ordered my food the hole meal looked dead plai...</td>\n",
       "    </tr>\n",
       "    <tr>\n",
       "      <th>1</th>\n",
       "      <td>1/1</td>\n",
       "      <td>We stopped her whilst walking in the Haga area...</td>\n",
       "      <td>we stopped her whilst walking in the haga area...</td>\n",
       "    </tr>\n",
       "    <tr>\n",
       "      <th>2</th>\n",
       "      <td>0/0</td>\n",
       "      <td>Bad experience, On 23/03/19 Myself and my part...</td>\n",
       "      <td>bad experience on myself and my partner arrive...</td>\n",
       "    </tr>\n",
       "    <tr>\n",
       "      <th>3</th>\n",
       "      <td>0/0</td>\n",
       "      <td>Extremely underwhelming experience here last n...</td>\n",
       "      <td>extremely underwhelming experience here last n...</td>\n",
       "    </tr>\n",
       "    <tr>\n",
       "      <th>4</th>\n",
       "      <td>0/0</td>\n",
       "      <td>Waited 30 minutes to get a table…that was ok. ...</td>\n",
       "      <td>waited minute to get table that wa ok sat at t...</td>\n",
       "    </tr>\n",
       "    <tr>\n",
       "      <th>...</th>\n",
       "      <td>...</td>\n",
       "      <td>...</td>\n",
       "      <td>...</td>\n",
       "    </tr>\n",
       "    <tr>\n",
       "      <th>7013</th>\n",
       "      <td>0/0</td>\n",
       "      <td>Bad service, stay away</td>\n",
       "      <td>bad service stay away</td>\n",
       "    </tr>\n",
       "    <tr>\n",
       "      <th>7014</th>\n",
       "      <td>0/0</td>\n",
       "      <td>Old school, but not always in a good way. Lots...</td>\n",
       "      <td>old school but not always in good way lot of f...</td>\n",
       "    </tr>\n",
       "    <tr>\n",
       "      <th>7015</th>\n",
       "      <td>1/1</td>\n",
       "      <td>Top 5 allergen free restaurant and the food is...</td>\n",
       "      <td>top allergen free restaurant and the food is g...</td>\n",
       "    </tr>\n",
       "    <tr>\n",
       "      <th>7016</th>\n",
       "      <td>-1/0</td>\n",
       "      <td>The ambiance is ok, the service is slightly sl...</td>\n",
       "      <td>the ambiance is ok the service is slightly slo...</td>\n",
       "    </tr>\n",
       "    <tr>\n",
       "      <th>7017</th>\n",
       "      <td>1/1</td>\n",
       "      <td>The food was yummy and the drinks excellent. W...</td>\n",
       "      <td>the food wa yummy and the drink excellent want...</td>\n",
       "    </tr>\n",
       "  </tbody>\n",
       "</table>\n",
       "<p>7018 rows × 3 columns</p>\n",
       "</div>"
      ],
      "text/plain": [
       "     Annotations                                            Reviews  \\\n",
       "0            0/0  Ordered my food the hole meal looked dead. pla...   \n",
       "1            1/1  We stopped her whilst walking in the Haga area...   \n",
       "2            0/0  Bad experience, On 23/03/19 Myself and my part...   \n",
       "3            0/0  Extremely underwhelming experience here last n...   \n",
       "4            0/0  Waited 30 minutes to get a table…that was ok. ...   \n",
       "...          ...                                                ...   \n",
       "7013         0/0                             Bad service, stay away   \n",
       "7014         0/0  Old school, but not always in a good way. Lots...   \n",
       "7015         1/1  Top 5 allergen free restaurant and the food is...   \n",
       "7016        -1/0  The ambiance is ok, the service is slightly sl...   \n",
       "7017         1/1  The food was yummy and the drinks excellent. W...   \n",
       "\n",
       "                                        Reviews_Cleaned  \n",
       "0     ordered my food the hole meal looked dead plai...  \n",
       "1     we stopped her whilst walking in the haga area...  \n",
       "2     bad experience on myself and my partner arrive...  \n",
       "3     extremely underwhelming experience here last n...  \n",
       "4     waited minute to get table that wa ok sat at t...  \n",
       "...                                                 ...  \n",
       "7013                              bad service stay away  \n",
       "7014  old school but not always in good way lot of f...  \n",
       "7015  top allergen free restaurant and the food is g...  \n",
       "7016  the ambiance is ok the service is slightly slo...  \n",
       "7017  the food wa yummy and the drink excellent want...  \n",
       "\n",
       "[7018 rows x 3 columns]"
      ]
     },
     "execution_count": 6,
     "metadata": {},
     "output_type": "execute_result"
    }
   ],
   "source": [
    "# get cleaned reviews for train data\n",
    "train_df[\"Reviews_Cleaned\"] = train_df[\"Reviews\"].apply(lambda x: review_cleaning(x))\n",
    "train_df"
   ]
  },
  {
   "cell_type": "code",
   "execution_count": 7,
   "metadata": {},
   "outputs": [],
   "source": [
    "# get cleaned reviews for test data\n",
    "test_df[\"Reviews_Cleaned\"] = test_df[\"Reviews\"].apply(lambda x: review_cleaning(x))"
   ]
  },
  {
   "cell_type": "markdown",
   "metadata": {},
   "source": [
    "# Clean Annotations"
   ]
  },
  {
   "cell_type": "code",
   "execution_count": 8,
   "metadata": {},
   "outputs": [
    {
     "data": {
      "text/plain": [
       "array(['0/0', '1/1', '1/0', '-1/0', '-1/1', '0/1', '2/1', '2/0', '1/',\n",
       "       '9/1'], dtype=object)"
      ]
     },
     "execution_count": 8,
     "metadata": {},
     "output_type": "execute_result"
    }
   ],
   "source": [
    "# check unique annotation combinations\n",
    "train_df[\"Annotations\"].unique()"
   ]
  },
  {
   "cell_type": "code",
   "execution_count": 9,
   "metadata": {},
   "outputs": [
    {
     "data": {
      "text/plain": [
       "{'1/1': 3496,\n",
       " '0/0': 3126,\n",
       " '1/0': 148,\n",
       " '0/1': 117,\n",
       " '-1/0': 97,\n",
       " '-1/1': 28,\n",
       " '2/1': 2,\n",
       " '2/0': 2,\n",
       " '1/': 1,\n",
       " '9/1': 1}"
      ]
     },
     "execution_count": 9,
     "metadata": {},
     "output_type": "execute_result"
    }
   ],
   "source": [
    "train_df[\"Annotations\"].value_counts().to_dict()"
   ]
  },
  {
   "cell_type": "code",
   "execution_count": 10,
   "metadata": {},
   "outputs": [
    {
     "data": {
      "text/plain": [
       "{1: 886, 0: 865}"
      ]
     },
     "execution_count": 10,
     "metadata": {},
     "output_type": "execute_result"
    }
   ],
   "source": [
    "test_df[\"Annotations\"].value_counts().to_dict()"
   ]
  },
  {
   "cell_type": "markdown",
   "metadata": {},
   "source": [
    "The annotations that have \"2/1\", \"2/0\", \"1/\" and \"9/1\" are unclear thus we remove them."
   ]
  },
  {
   "cell_type": "code",
   "execution_count": 11,
   "metadata": {},
   "outputs": [],
   "source": [
    "# function to remove rows with certain values\n",
    "def filter_rows_by_values(df, col: str, values):\n",
    "    return df[~df[col].isin(values)]"
   ]
  },
  {
   "cell_type": "code",
   "execution_count": 12,
   "metadata": {},
   "outputs": [],
   "source": [
    "# remove the unclear annotations\n",
    "train_df_clean = filter_rows_by_values(train_df, \"Annotations\", [\"2/1\", \"2/0\", \"1/\",\"9/1\"])"
   ]
  },
  {
   "cell_type": "code",
   "execution_count": 13,
   "metadata": {},
   "outputs": [],
   "source": [
    "# function to split annotations\n",
    "def split_annotations(s):\n",
    "  s = s.split(\"/\")\n",
    "  s1 = int(s[0])\n",
    "  s2 = int(s[1])\n",
    "  return pd.Series([s1, s2])"
   ]
  },
  {
   "cell_type": "code",
   "execution_count": 14,
   "metadata": {},
   "outputs": [
    {
     "data": {
      "text/html": [
       "<div>\n",
       "<style scoped>\n",
       "    .dataframe tbody tr th:only-of-type {\n",
       "        vertical-align: middle;\n",
       "    }\n",
       "\n",
       "    .dataframe tbody tr th {\n",
       "        vertical-align: top;\n",
       "    }\n",
       "\n",
       "    .dataframe thead th {\n",
       "        text-align: right;\n",
       "    }\n",
       "</style>\n",
       "<table border=\"1\" class=\"dataframe\">\n",
       "  <thead>\n",
       "    <tr style=\"text-align: right;\">\n",
       "      <th></th>\n",
       "      <th>Annotations</th>\n",
       "      <th>Reviews</th>\n",
       "      <th>Reviews_Cleaned</th>\n",
       "      <th>Annotator2</th>\n",
       "      <th>Annotator1</th>\n",
       "    </tr>\n",
       "  </thead>\n",
       "  <tbody>\n",
       "    <tr>\n",
       "      <th>0</th>\n",
       "      <td>0/0</td>\n",
       "      <td>Ordered my food the hole meal looked dead. pla...</td>\n",
       "      <td>ordered my food the hole meal looked dead plai...</td>\n",
       "      <td>0</td>\n",
       "      <td>0</td>\n",
       "    </tr>\n",
       "    <tr>\n",
       "      <th>1</th>\n",
       "      <td>1/1</td>\n",
       "      <td>We stopped her whilst walking in the Haga area...</td>\n",
       "      <td>we stopped her whilst walking in the haga area...</td>\n",
       "      <td>1</td>\n",
       "      <td>1</td>\n",
       "    </tr>\n",
       "    <tr>\n",
       "      <th>2</th>\n",
       "      <td>0/0</td>\n",
       "      <td>Bad experience, On 23/03/19 Myself and my part...</td>\n",
       "      <td>bad experience on myself and my partner arrive...</td>\n",
       "      <td>0</td>\n",
       "      <td>0</td>\n",
       "    </tr>\n",
       "    <tr>\n",
       "      <th>3</th>\n",
       "      <td>0/0</td>\n",
       "      <td>Extremely underwhelming experience here last n...</td>\n",
       "      <td>extremely underwhelming experience here last n...</td>\n",
       "      <td>0</td>\n",
       "      <td>0</td>\n",
       "    </tr>\n",
       "    <tr>\n",
       "      <th>4</th>\n",
       "      <td>0/0</td>\n",
       "      <td>Waited 30 minutes to get a table…that was ok. ...</td>\n",
       "      <td>waited minute to get table that wa ok sat at t...</td>\n",
       "      <td>0</td>\n",
       "      <td>0</td>\n",
       "    </tr>\n",
       "  </tbody>\n",
       "</table>\n",
       "</div>"
      ],
      "text/plain": [
       "  Annotations                                            Reviews  \\\n",
       "0         0/0  Ordered my food the hole meal looked dead. pla...   \n",
       "1         1/1  We stopped her whilst walking in the Haga area...   \n",
       "2         0/0  Bad experience, On 23/03/19 Myself and my part...   \n",
       "3         0/0  Extremely underwhelming experience here last n...   \n",
       "4         0/0  Waited 30 minutes to get a table…that was ok. ...   \n",
       "\n",
       "                                     Reviews_Cleaned  Annotator2  Annotator1  \n",
       "0  ordered my food the hole meal looked dead plai...           0           0  \n",
       "1  we stopped her whilst walking in the haga area...           1           1  \n",
       "2  bad experience on myself and my partner arrive...           0           0  \n",
       "3  extremely underwhelming experience here last n...           0           0  \n",
       "4  waited minute to get table that wa ok sat at t...           0           0  "
      ]
     },
     "execution_count": 14,
     "metadata": {},
     "output_type": "execute_result"
    }
   ],
   "source": [
    "# split annotations\n",
    "train_df_clean[[\"Annotator2\", \"Annotator1\"]] = train_df_clean[\"Annotations\"].apply(lambda x: split_annotations(x))\n",
    "train_df_clean.head()"
   ]
  },
  {
   "cell_type": "code",
   "execution_count": 15,
   "metadata": {},
   "outputs": [
    {
     "data": {
      "text/plain": [
       "0.8904734252430904"
      ]
     },
     "execution_count": 15,
     "metadata": {},
     "output_type": "execute_result"
    }
   ],
   "source": [
    "# convert annotations 1 and 2 to list\n",
    "annotator1 = train_df_clean[\"Annotator1\"].tolist()\n",
    "annotator2 = train_df_clean[\"Annotator2\"].tolist()\n",
    "\n",
    "# calculate cohen kappa score\n",
    "cohen_kappa_score(annotator1, annotator2)"
   ]
  },
  {
   "cell_type": "markdown",
   "metadata": {},
   "source": [
    "## Dealing with unlear annotations"
   ]
  },
  {
   "cell_type": "markdown",
   "metadata": {},
   "source": [
    "We will now seperate all unclear annotations i.e. -1 and then perform a sentiment analysis using stanza to re-annotate the reviews. We then cross checked the results with the second annotator."
   ]
  },
  {
   "cell_type": "code",
   "execution_count": 16,
   "metadata": {},
   "outputs": [],
   "source": [
    "# # convert annotations from integer to string\n",
    "# train_df_clean[[\"Annotator1\",\"Annotator2\"]] = train_df_clean[[\"Annotator1\",\"Annotator2\"]].astype(str)\n",
    "# train_df_clean"
   ]
  },
  {
   "cell_type": "code",
   "execution_count": 17,
   "metadata": {},
   "outputs": [],
   "source": [
    "# seperate all -1 annotations\n",
    "train_df_unclear = train_df_clean.loc[train_df_clean[\"Annotator1\"].isin([-1]) | train_df_clean[\"Annotator2\"].isin([-1])]\n",
    "# train_df_unclear = train_df_clean.loc[train_df_clean[\"Annotations\"].isin([\"1/0\", \"-1/0\", \"-1/1\", \"0/1\"])]"
   ]
  },
  {
   "cell_type": "code",
   "execution_count": 18,
   "metadata": {},
   "outputs": [],
   "source": [
    "# remove all uncertainties from train_df_clean and disagreements\n",
    "train_df_clean = filter_rows_by_values(train_df_clean, \"Annotations\", [\"1/0\", \"-1/0\", \"-1/1\", \"0/1\"])\n",
    "# train_df_clean = filter_rows_by_values(train_df_clean, \"An"
   ]
  },
  {
   "cell_type": "code",
   "execution_count": 19,
   "metadata": {},
   "outputs": [],
   "source": [
    "# reset index of dataframe\n",
    "train_df_clean.reset_index(drop = True, inplace = True)"
   ]
  },
  {
   "cell_type": "code",
   "execution_count": 20,
   "metadata": {},
   "outputs": [
    {
     "data": {
      "text/html": [
       "<div>\n",
       "<style scoped>\n",
       "    .dataframe tbody tr th:only-of-type {\n",
       "        vertical-align: middle;\n",
       "    }\n",
       "\n",
       "    .dataframe tbody tr th {\n",
       "        vertical-align: top;\n",
       "    }\n",
       "\n",
       "    .dataframe thead th {\n",
       "        text-align: right;\n",
       "    }\n",
       "</style>\n",
       "<table border=\"1\" class=\"dataframe\">\n",
       "  <thead>\n",
       "    <tr style=\"text-align: right;\">\n",
       "      <th></th>\n",
       "      <th>Annotations</th>\n",
       "      <th>Reviews</th>\n",
       "      <th>Reviews_Cleaned</th>\n",
       "      <th>Annotator2</th>\n",
       "      <th>Annotator1</th>\n",
       "      <th>Final_Annotation</th>\n",
       "    </tr>\n",
       "  </thead>\n",
       "  <tbody>\n",
       "    <tr>\n",
       "      <th>0</th>\n",
       "      <td>0/0</td>\n",
       "      <td>Ordered my food the hole meal looked dead. pla...</td>\n",
       "      <td>ordered my food the hole meal looked dead plai...</td>\n",
       "      <td>0</td>\n",
       "      <td>0</td>\n",
       "      <td>0</td>\n",
       "    </tr>\n",
       "    <tr>\n",
       "      <th>1</th>\n",
       "      <td>1/1</td>\n",
       "      <td>We stopped her whilst walking in the Haga area...</td>\n",
       "      <td>we stopped her whilst walking in the haga area...</td>\n",
       "      <td>1</td>\n",
       "      <td>1</td>\n",
       "      <td>1</td>\n",
       "    </tr>\n",
       "    <tr>\n",
       "      <th>2</th>\n",
       "      <td>0/0</td>\n",
       "      <td>Bad experience, On 23/03/19 Myself and my part...</td>\n",
       "      <td>bad experience on myself and my partner arrive...</td>\n",
       "      <td>0</td>\n",
       "      <td>0</td>\n",
       "      <td>0</td>\n",
       "    </tr>\n",
       "    <tr>\n",
       "      <th>3</th>\n",
       "      <td>0/0</td>\n",
       "      <td>Extremely underwhelming experience here last n...</td>\n",
       "      <td>extremely underwhelming experience here last n...</td>\n",
       "      <td>0</td>\n",
       "      <td>0</td>\n",
       "      <td>0</td>\n",
       "    </tr>\n",
       "    <tr>\n",
       "      <th>4</th>\n",
       "      <td>0/0</td>\n",
       "      <td>Waited 30 minutes to get a table…that was ok. ...</td>\n",
       "      <td>waited minute to get table that wa ok sat at t...</td>\n",
       "      <td>0</td>\n",
       "      <td>0</td>\n",
       "      <td>0</td>\n",
       "    </tr>\n",
       "    <tr>\n",
       "      <th>...</th>\n",
       "      <td>...</td>\n",
       "      <td>...</td>\n",
       "      <td>...</td>\n",
       "      <td>...</td>\n",
       "      <td>...</td>\n",
       "      <td>...</td>\n",
       "    </tr>\n",
       "    <tr>\n",
       "      <th>6617</th>\n",
       "      <td>1/1</td>\n",
       "      <td>We recently dined at Ma Cuisine, and enjoyed e...</td>\n",
       "      <td>we recently dined at ma cuisine and enjoyed ev...</td>\n",
       "      <td>1</td>\n",
       "      <td>1</td>\n",
       "      <td>1</td>\n",
       "    </tr>\n",
       "    <tr>\n",
       "      <th>6618</th>\n",
       "      <td>0/0</td>\n",
       "      <td>Bad service, stay away</td>\n",
       "      <td>bad service stay away</td>\n",
       "      <td>0</td>\n",
       "      <td>0</td>\n",
       "      <td>0</td>\n",
       "    </tr>\n",
       "    <tr>\n",
       "      <th>6619</th>\n",
       "      <td>0/0</td>\n",
       "      <td>Old school, but not always in a good way. Lots...</td>\n",
       "      <td>old school but not always in good way lot of f...</td>\n",
       "      <td>0</td>\n",
       "      <td>0</td>\n",
       "      <td>0</td>\n",
       "    </tr>\n",
       "    <tr>\n",
       "      <th>6620</th>\n",
       "      <td>1/1</td>\n",
       "      <td>Top 5 allergen free restaurant and the food is...</td>\n",
       "      <td>top allergen free restaurant and the food is g...</td>\n",
       "      <td>1</td>\n",
       "      <td>1</td>\n",
       "      <td>1</td>\n",
       "    </tr>\n",
       "    <tr>\n",
       "      <th>6621</th>\n",
       "      <td>1/1</td>\n",
       "      <td>The food was yummy and the drinks excellent. W...</td>\n",
       "      <td>the food wa yummy and the drink excellent want...</td>\n",
       "      <td>1</td>\n",
       "      <td>1</td>\n",
       "      <td>1</td>\n",
       "    </tr>\n",
       "  </tbody>\n",
       "</table>\n",
       "<p>6622 rows × 6 columns</p>\n",
       "</div>"
      ],
      "text/plain": [
       "     Annotations                                            Reviews  \\\n",
       "0            0/0  Ordered my food the hole meal looked dead. pla...   \n",
       "1            1/1  We stopped her whilst walking in the Haga area...   \n",
       "2            0/0  Bad experience, On 23/03/19 Myself and my part...   \n",
       "3            0/0  Extremely underwhelming experience here last n...   \n",
       "4            0/0  Waited 30 minutes to get a table…that was ok. ...   \n",
       "...          ...                                                ...   \n",
       "6617         1/1  We recently dined at Ma Cuisine, and enjoyed e...   \n",
       "6618         0/0                             Bad service, stay away   \n",
       "6619         0/0  Old school, but not always in a good way. Lots...   \n",
       "6620         1/1  Top 5 allergen free restaurant and the food is...   \n",
       "6621         1/1  The food was yummy and the drinks excellent. W...   \n",
       "\n",
       "                                        Reviews_Cleaned  Annotator2  \\\n",
       "0     ordered my food the hole meal looked dead plai...           0   \n",
       "1     we stopped her whilst walking in the haga area...           1   \n",
       "2     bad experience on myself and my partner arrive...           0   \n",
       "3     extremely underwhelming experience here last n...           0   \n",
       "4     waited minute to get table that wa ok sat at t...           0   \n",
       "...                                                 ...         ...   \n",
       "6617  we recently dined at ma cuisine and enjoyed ev...           1   \n",
       "6618                              bad service stay away           0   \n",
       "6619  old school but not always in good way lot of f...           0   \n",
       "6620  top allergen free restaurant and the food is g...           1   \n",
       "6621  the food wa yummy and the drink excellent want...           1   \n",
       "\n",
       "      Annotator1  Final_Annotation  \n",
       "0              0                 0  \n",
       "1              1                 1  \n",
       "2              0                 0  \n",
       "3              0                 0  \n",
       "4              0                 0  \n",
       "...          ...               ...  \n",
       "6617           1                 1  \n",
       "6618           0                 0  \n",
       "6619           0                 0  \n",
       "6620           1                 1  \n",
       "6621           1                 1  \n",
       "\n",
       "[6622 rows x 6 columns]"
      ]
     },
     "execution_count": 20,
     "metadata": {},
     "output_type": "execute_result"
    }
   ],
   "source": [
    "# set annotator 2 as final annotation\n",
    "train_df_clean[\"Final_Annotation\"] = train_df_clean[\"Annotator1\"]\n",
    "train_df_clean"
   ]
  },
  {
   "cell_type": "code",
   "execution_count": 21,
   "metadata": {},
   "outputs": [
    {
     "name": "stdout",
     "output_type": "stream",
     "text": [
      "Downloading English model...\n"
     ]
    },
    {
     "name": "stderr",
     "output_type": "stream",
     "text": [
      "Downloading https://raw.githubusercontent.com/stanfordnlp/stanza-resources/main/resources_1.5.0.json: 200kB [00:00, 8.92MB/s]\n",
      "2023-04-18 13:29:56 INFO: Downloading default packages for language: en (English) ...\n",
      "2023-04-18 13:30:00 INFO: File exists: /Users/martavalero/stanza_resources/en/default.zip\n",
      "2023-04-18 13:30:21 INFO: Finished downloading models and saved to /Users/martavalero/stanza_resources.\n"
     ]
    }
   ],
   "source": [
    "# download stanza english model\n",
    "print(\"Downloading English model...\")\n",
    "stanza.download(\"en\")"
   ]
  },
  {
   "cell_type": "code",
   "execution_count": 22,
   "metadata": {},
   "outputs": [
    {
     "name": "stderr",
     "output_type": "stream",
     "text": [
      "2023-04-18 13:30:21 INFO: Checking for updates to resources.json in case models have been updated.  Note: this behavior can be turned off with download_method=None or download_method=DownloadMethod.REUSE_RESOURCES\n",
      "Downloading https://raw.githubusercontent.com/stanfordnlp/stanza-resources/main/resources_1.5.0.json: 200kB [00:00, 17.7MB/s]\n",
      "2023-04-18 13:30:22 INFO: Loading these models for language: en (English):\n",
      "========================\n",
      "| Processor | Package  |\n",
      "------------------------\n",
      "| tokenize  | combined |\n",
      "| sentiment | sstplus  |\n",
      "========================\n",
      "\n",
      "2023-04-18 13:30:22 INFO: Using device: cpu\n",
      "2023-04-18 13:30:22 INFO: Loading: tokenize\n",
      "2023-04-18 13:30:22 INFO: Loading: sentiment\n",
      "2023-04-18 13:30:23 INFO: Done loading processors!\n"
     ]
    }
   ],
   "source": [
    "# create a stanza pipeline\n",
    "nlp = stanza.Pipeline(lang = \"en\", processors = \"tokenize, sentiment\")"
   ]
  },
  {
   "cell_type": "code",
   "execution_count": 23,
   "metadata": {},
   "outputs": [],
   "source": [
    "# function to perform sentiment analysis\n",
    "# 0 = negative, 1 = neutral, 2 = positive\n",
    "def get_sentiment(x):\n",
    "    doc = nlp(x)\n",
    "    for sentence in doc.sentences:\n",
    "        return sentence.sentiment"
   ]
  },
  {
   "cell_type": "code",
   "execution_count": 24,
   "metadata": {},
   "outputs": [
    {
     "data": {
      "text/html": [
       "<div>\n",
       "<style scoped>\n",
       "    .dataframe tbody tr th:only-of-type {\n",
       "        vertical-align: middle;\n",
       "    }\n",
       "\n",
       "    .dataframe tbody tr th {\n",
       "        vertical-align: top;\n",
       "    }\n",
       "\n",
       "    .dataframe thead th {\n",
       "        text-align: right;\n",
       "    }\n",
       "</style>\n",
       "<table border=\"1\" class=\"dataframe\">\n",
       "  <thead>\n",
       "    <tr style=\"text-align: right;\">\n",
       "      <th></th>\n",
       "      <th>Annotations</th>\n",
       "      <th>Reviews</th>\n",
       "      <th>Reviews_Cleaned</th>\n",
       "      <th>Annotator2</th>\n",
       "      <th>Annotator1</th>\n",
       "      <th>sent_score</th>\n",
       "    </tr>\n",
       "  </thead>\n",
       "  <tbody>\n",
       "    <tr>\n",
       "      <th>19</th>\n",
       "      <td>-1/0</td>\n",
       "      <td>restaurant mon ami en las vegas , un verdadero...</td>\n",
       "      <td>restaurant mon ami en la vega un verdadero eng...</td>\n",
       "      <td>-1</td>\n",
       "      <td>0</td>\n",
       "      <td>2</td>\n",
       "    </tr>\n",
       "    <tr>\n",
       "      <th>45</th>\n",
       "      <td>-1/1</td>\n",
       "      <td>Love love love this place .. Its kind of small...</td>\n",
       "      <td>love love love this place it kind of small all...</td>\n",
       "      <td>-1</td>\n",
       "      <td>1</td>\n",
       "      <td>2</td>\n",
       "    </tr>\n",
       "    <tr>\n",
       "      <th>95</th>\n",
       "      <td>-1/0</td>\n",
       "      <td>The satay was ok, it was a little tough and sa...</td>\n",
       "      <td>the satay wa ok it wa little tough and sauce w...</td>\n",
       "      <td>-1</td>\n",
       "      <td>0</td>\n",
       "      <td>0</td>\n",
       "    </tr>\n",
       "    <tr>\n",
       "      <th>166</th>\n",
       "      <td>-1/1</td>\n",
       "      <td>I loved the ambience of this place. Food was g...</td>\n",
       "      <td>loved the ambience of this place food wa great...</td>\n",
       "      <td>-1</td>\n",
       "      <td>1</td>\n",
       "      <td>2</td>\n",
       "    </tr>\n",
       "    <tr>\n",
       "      <th>191</th>\n",
       "      <td>-1/0</td>\n",
       "      <td>The staff is a kind of rude but the foods and ...</td>\n",
       "      <td>the staff is kind of rude but the food and dri...</td>\n",
       "      <td>-1</td>\n",
       "      <td>0</td>\n",
       "      <td>2</td>\n",
       "    </tr>\n",
       "    <tr>\n",
       "      <th>...</th>\n",
       "      <td>...</td>\n",
       "      <td>...</td>\n",
       "      <td>...</td>\n",
       "      <td>...</td>\n",
       "      <td>...</td>\n",
       "      <td>...</td>\n",
       "    </tr>\n",
       "    <tr>\n",
       "      <th>6821</th>\n",
       "      <td>-1/1</td>\n",
       "      <td>The reason why Taipan Building is most attract...</td>\n",
       "      <td>the reason why taipan building is most attract...</td>\n",
       "      <td>-1</td>\n",
       "      <td>1</td>\n",
       "      <td>2</td>\n",
       "    </tr>\n",
       "    <tr>\n",
       "      <th>6915</th>\n",
       "      <td>-1/1</td>\n",
       "      <td>I had the most delicious fish for lunch. Inclu...</td>\n",
       "      <td>had the most delicious fish for lunch included...</td>\n",
       "      <td>-1</td>\n",
       "      <td>1</td>\n",
       "      <td>2</td>\n",
       "    </tr>\n",
       "    <tr>\n",
       "      <th>6921</th>\n",
       "      <td>-1/0</td>\n",
       "      <td>Graffiato is AWESOME.  However, warning for th...</td>\n",
       "      <td>graffiato is awesome however warning for those...</td>\n",
       "      <td>-1</td>\n",
       "      <td>0</td>\n",
       "      <td>1</td>\n",
       "    </tr>\n",
       "    <tr>\n",
       "      <th>6994</th>\n",
       "      <td>-1/0</td>\n",
       "      <td>Some times this place is good today it wasn't ...</td>\n",
       "      <td>some time this place is good today it wa not n...</td>\n",
       "      <td>-1</td>\n",
       "      <td>0</td>\n",
       "      <td>2</td>\n",
       "    </tr>\n",
       "    <tr>\n",
       "      <th>7016</th>\n",
       "      <td>-1/0</td>\n",
       "      <td>The ambiance is ok, the service is slightly sl...</td>\n",
       "      <td>the ambiance is ok the service is slightly slo...</td>\n",
       "      <td>-1</td>\n",
       "      <td>0</td>\n",
       "      <td>0</td>\n",
       "    </tr>\n",
       "  </tbody>\n",
       "</table>\n",
       "<p>125 rows × 6 columns</p>\n",
       "</div>"
      ],
      "text/plain": [
       "     Annotations                                            Reviews  \\\n",
       "19          -1/0  restaurant mon ami en las vegas , un verdadero...   \n",
       "45          -1/1  Love love love this place .. Its kind of small...   \n",
       "95          -1/0  The satay was ok, it was a little tough and sa...   \n",
       "166         -1/1  I loved the ambience of this place. Food was g...   \n",
       "191         -1/0  The staff is a kind of rude but the foods and ...   \n",
       "...          ...                                                ...   \n",
       "6821        -1/1  The reason why Taipan Building is most attract...   \n",
       "6915        -1/1  I had the most delicious fish for lunch. Inclu...   \n",
       "6921        -1/0  Graffiato is AWESOME.  However, warning for th...   \n",
       "6994        -1/0  Some times this place is good today it wasn't ...   \n",
       "7016        -1/0  The ambiance is ok, the service is slightly sl...   \n",
       "\n",
       "                                        Reviews_Cleaned  Annotator2  \\\n",
       "19    restaurant mon ami en la vega un verdadero eng...          -1   \n",
       "45    love love love this place it kind of small all...          -1   \n",
       "95    the satay wa ok it wa little tough and sauce w...          -1   \n",
       "166   loved the ambience of this place food wa great...          -1   \n",
       "191   the staff is kind of rude but the food and dri...          -1   \n",
       "...                                                 ...         ...   \n",
       "6821  the reason why taipan building is most attract...          -1   \n",
       "6915  had the most delicious fish for lunch included...          -1   \n",
       "6921  graffiato is awesome however warning for those...          -1   \n",
       "6994  some time this place is good today it wa not n...          -1   \n",
       "7016  the ambiance is ok the service is slightly slo...          -1   \n",
       "\n",
       "      Annotator1  sent_score  \n",
       "19             0           2  \n",
       "45             1           2  \n",
       "95             0           0  \n",
       "166            1           2  \n",
       "191            0           2  \n",
       "...          ...         ...  \n",
       "6821           1           2  \n",
       "6915           1           2  \n",
       "6921           0           1  \n",
       "6994           0           2  \n",
       "7016           0           0  \n",
       "\n",
       "[125 rows x 6 columns]"
      ]
     },
     "execution_count": 24,
     "metadata": {},
     "output_type": "execute_result"
    }
   ],
   "source": [
    "# get the sentiment scores for the unclear review data\n",
    "train_df_unclear[\"sent_score\"] = train_df_unclear[\"Reviews\"].apply(lambda x:get_sentiment(x))\n",
    "train_df_unclear"
   ]
  },
  {
   "cell_type": "code",
   "execution_count": 25,
   "metadata": {},
   "outputs": [],
   "source": [
    "# remove all review with neutral sentiment i.e. 1\n",
    "train_df_unclear = filter_rows_by_values(train_df_unclear,\"sent_score\",[1])\n"
   ]
  },
  {
   "cell_type": "code",
   "execution_count": 26,
   "metadata": {},
   "outputs": [],
   "source": [
    "# set all positive sentiment score label from 2 to 1\n",
    "train_df_unclear[\"sent_score\"] = train_df_unclear[\"sent_score\"].apply(lambda x: x if x ==  0 else 1)\n"
   ]
  },
  {
   "cell_type": "code",
   "execution_count": 27,
   "metadata": {},
   "outputs": [],
   "source": [
    "# filter all reviews that have same sentiment score as second annotation\n",
    "train_df_clear = train_df_unclear[train_df_unclear[\"Annotator1\"] ==  train_df_unclear[\"sent_score\"]]\n"
   ]
  },
  {
   "cell_type": "code",
   "execution_count": 28,
   "metadata": {},
   "outputs": [],
   "source": [
    "# drop the sent_score column\n",
    "train_df_clear.drop(\"sent_score\", axis = 1, inplace = True)\n"
   ]
  },
  {
   "cell_type": "code",
   "execution_count": 29,
   "metadata": {},
   "outputs": [
    {
     "data": {
      "text/html": [
       "<div>\n",
       "<style scoped>\n",
       "    .dataframe tbody tr th:only-of-type {\n",
       "        vertical-align: middle;\n",
       "    }\n",
       "\n",
       "    .dataframe tbody tr th {\n",
       "        vertical-align: top;\n",
       "    }\n",
       "\n",
       "    .dataframe thead th {\n",
       "        text-align: right;\n",
       "    }\n",
       "</style>\n",
       "<table border=\"1\" class=\"dataframe\">\n",
       "  <thead>\n",
       "    <tr style=\"text-align: right;\">\n",
       "      <th></th>\n",
       "      <th>Annotations</th>\n",
       "      <th>Reviews</th>\n",
       "      <th>Reviews_Cleaned</th>\n",
       "      <th>Annotator2</th>\n",
       "      <th>Annotator1</th>\n",
       "      <th>Final_Annotation</th>\n",
       "    </tr>\n",
       "  </thead>\n",
       "  <tbody>\n",
       "    <tr>\n",
       "      <th>45</th>\n",
       "      <td>-1/1</td>\n",
       "      <td>Love love love this place .. Its kind of small...</td>\n",
       "      <td>love love love this place it kind of small all...</td>\n",
       "      <td>-1</td>\n",
       "      <td>1</td>\n",
       "      <td>1</td>\n",
       "    </tr>\n",
       "    <tr>\n",
       "      <th>95</th>\n",
       "      <td>-1/0</td>\n",
       "      <td>The satay was ok, it was a little tough and sa...</td>\n",
       "      <td>the satay wa ok it wa little tough and sauce w...</td>\n",
       "      <td>-1</td>\n",
       "      <td>0</td>\n",
       "      <td>0</td>\n",
       "    </tr>\n",
       "    <tr>\n",
       "      <th>166</th>\n",
       "      <td>-1/1</td>\n",
       "      <td>I loved the ambience of this place. Food was g...</td>\n",
       "      <td>loved the ambience of this place food wa great...</td>\n",
       "      <td>-1</td>\n",
       "      <td>1</td>\n",
       "      <td>1</td>\n",
       "    </tr>\n",
       "    <tr>\n",
       "      <th>335</th>\n",
       "      <td>-1/0</td>\n",
       "      <td>Sadly this place was a huge disappointment ser...</td>\n",
       "      <td>sadly this place wa huge disappointment servic...</td>\n",
       "      <td>-1</td>\n",
       "      <td>0</td>\n",
       "      <td>0</td>\n",
       "    </tr>\n",
       "    <tr>\n",
       "      <th>516</th>\n",
       "      <td>-1/1</td>\n",
       "      <td>This was my only chili crab experience and I s...</td>\n",
       "      <td>this wa my only chili crab experience and sort...</td>\n",
       "      <td>-1</td>\n",
       "      <td>1</td>\n",
       "      <td>1</td>\n",
       "    </tr>\n",
       "    <tr>\n",
       "      <th>...</th>\n",
       "      <td>...</td>\n",
       "      <td>...</td>\n",
       "      <td>...</td>\n",
       "      <td>...</td>\n",
       "      <td>...</td>\n",
       "      <td>...</td>\n",
       "    </tr>\n",
       "    <tr>\n",
       "      <th>6288</th>\n",
       "      <td>-1/0</td>\n",
       "      <td>Service was pleasant but slow and the two main...</td>\n",
       "      <td>service wa pleasant but slow and the two main ...</td>\n",
       "      <td>-1</td>\n",
       "      <td>0</td>\n",
       "      <td>0</td>\n",
       "    </tr>\n",
       "    <tr>\n",
       "      <th>6459</th>\n",
       "      <td>-1/0</td>\n",
       "      <td>We went to the tango show and it was not good ...</td>\n",
       "      <td>we went to the tango show and it wa not good a...</td>\n",
       "      <td>-1</td>\n",
       "      <td>0</td>\n",
       "      <td>0</td>\n",
       "    </tr>\n",
       "    <tr>\n",
       "      <th>6821</th>\n",
       "      <td>-1/1</td>\n",
       "      <td>The reason why Taipan Building is most attract...</td>\n",
       "      <td>the reason why taipan building is most attract...</td>\n",
       "      <td>-1</td>\n",
       "      <td>1</td>\n",
       "      <td>1</td>\n",
       "    </tr>\n",
       "    <tr>\n",
       "      <th>6915</th>\n",
       "      <td>-1/1</td>\n",
       "      <td>I had the most delicious fish for lunch. Inclu...</td>\n",
       "      <td>had the most delicious fish for lunch included...</td>\n",
       "      <td>-1</td>\n",
       "      <td>1</td>\n",
       "      <td>1</td>\n",
       "    </tr>\n",
       "    <tr>\n",
       "      <th>7016</th>\n",
       "      <td>-1/0</td>\n",
       "      <td>The ambiance is ok, the service is slightly sl...</td>\n",
       "      <td>the ambiance is ok the service is slightly slo...</td>\n",
       "      <td>-1</td>\n",
       "      <td>0</td>\n",
       "      <td>0</td>\n",
       "    </tr>\n",
       "  </tbody>\n",
       "</table>\n",
       "<p>63 rows × 6 columns</p>\n",
       "</div>"
      ],
      "text/plain": [
       "     Annotations                                            Reviews  \\\n",
       "45          -1/1  Love love love this place .. Its kind of small...   \n",
       "95          -1/0  The satay was ok, it was a little tough and sa...   \n",
       "166         -1/1  I loved the ambience of this place. Food was g...   \n",
       "335         -1/0  Sadly this place was a huge disappointment ser...   \n",
       "516         -1/1  This was my only chili crab experience and I s...   \n",
       "...          ...                                                ...   \n",
       "6288        -1/0  Service was pleasant but slow and the two main...   \n",
       "6459        -1/0  We went to the tango show and it was not good ...   \n",
       "6821        -1/1  The reason why Taipan Building is most attract...   \n",
       "6915        -1/1  I had the most delicious fish for lunch. Inclu...   \n",
       "7016        -1/0  The ambiance is ok, the service is slightly sl...   \n",
       "\n",
       "                                        Reviews_Cleaned  Annotator2  \\\n",
       "45    love love love this place it kind of small all...          -1   \n",
       "95    the satay wa ok it wa little tough and sauce w...          -1   \n",
       "166   loved the ambience of this place food wa great...          -1   \n",
       "335   sadly this place wa huge disappointment servic...          -1   \n",
       "516   this wa my only chili crab experience and sort...          -1   \n",
       "...                                                 ...         ...   \n",
       "6288  service wa pleasant but slow and the two main ...          -1   \n",
       "6459  we went to the tango show and it wa not good a...          -1   \n",
       "6821  the reason why taipan building is most attract...          -1   \n",
       "6915  had the most delicious fish for lunch included...          -1   \n",
       "7016  the ambiance is ok the service is slightly slo...          -1   \n",
       "\n",
       "      Annotator1  Final_Annotation  \n",
       "45             1                 1  \n",
       "95             0                 0  \n",
       "166            1                 1  \n",
       "335            0                 0  \n",
       "516            1                 1  \n",
       "...          ...               ...  \n",
       "6288           0                 0  \n",
       "6459           0                 0  \n",
       "6821           1                 1  \n",
       "6915           1                 1  \n",
       "7016           0                 0  \n",
       "\n",
       "[63 rows x 6 columns]"
      ]
     },
     "execution_count": 29,
     "metadata": {},
     "output_type": "execute_result"
    }
   ],
   "source": [
    "# set first annotation as final annotation\n",
    "train_df_clear[\"Final_Annotation\"] = train_df_clear[\"Annotator1\"]\n",
    "train_df_clear"
   ]
  },
  {
   "cell_type": "code",
   "execution_count": 30,
   "metadata": {},
   "outputs": [],
   "source": [
    "# save the unclear review data with sentiment scores\n",
    "train_df_clear.to_csv(\"unsure_reviews_fixed.csv\", index = False)\n"
   ]
  },
  {
   "cell_type": "code",
   "execution_count": 31,
   "metadata": {},
   "outputs": [
    {
     "data": {
      "text/html": [
       "<div>\n",
       "<style scoped>\n",
       "    .dataframe tbody tr th:only-of-type {\n",
       "        vertical-align: middle;\n",
       "    }\n",
       "\n",
       "    .dataframe tbody tr th {\n",
       "        vertical-align: top;\n",
       "    }\n",
       "\n",
       "    .dataframe thead th {\n",
       "        text-align: right;\n",
       "    }\n",
       "</style>\n",
       "<table border=\"1\" class=\"dataframe\">\n",
       "  <thead>\n",
       "    <tr style=\"text-align: right;\">\n",
       "      <th></th>\n",
       "      <th>Annotations</th>\n",
       "      <th>Reviews</th>\n",
       "      <th>Reviews_Cleaned</th>\n",
       "      <th>Annotator2</th>\n",
       "      <th>Annotator1</th>\n",
       "      <th>Final_Annotation</th>\n",
       "    </tr>\n",
       "  </thead>\n",
       "  <tbody>\n",
       "    <tr>\n",
       "      <th>0</th>\n",
       "      <td>-1/1</td>\n",
       "      <td>Love love love this place .. Its kind of small...</td>\n",
       "      <td>love love love this place it kind of small all...</td>\n",
       "      <td>-1</td>\n",
       "      <td>1</td>\n",
       "      <td>1</td>\n",
       "    </tr>\n",
       "    <tr>\n",
       "      <th>1</th>\n",
       "      <td>-1/0</td>\n",
       "      <td>The satay was ok, it was a little tough and sa...</td>\n",
       "      <td>the satay wa ok it wa little tough and sauce w...</td>\n",
       "      <td>-1</td>\n",
       "      <td>0</td>\n",
       "      <td>0</td>\n",
       "    </tr>\n",
       "    <tr>\n",
       "      <th>2</th>\n",
       "      <td>-1/1</td>\n",
       "      <td>I loved the ambience of this place. Food was g...</td>\n",
       "      <td>loved the ambience of this place food wa great...</td>\n",
       "      <td>-1</td>\n",
       "      <td>1</td>\n",
       "      <td>1</td>\n",
       "    </tr>\n",
       "    <tr>\n",
       "      <th>3</th>\n",
       "      <td>-1/0</td>\n",
       "      <td>Sadly this place was a huge disappointment ser...</td>\n",
       "      <td>sadly this place wa huge disappointment servic...</td>\n",
       "      <td>-1</td>\n",
       "      <td>0</td>\n",
       "      <td>0</td>\n",
       "    </tr>\n",
       "    <tr>\n",
       "      <th>4</th>\n",
       "      <td>-1/1</td>\n",
       "      <td>This was my only chili crab experience and I s...</td>\n",
       "      <td>this wa my only chili crab experience and sort...</td>\n",
       "      <td>-1</td>\n",
       "      <td>1</td>\n",
       "      <td>1</td>\n",
       "    </tr>\n",
       "  </tbody>\n",
       "</table>\n",
       "</div>"
      ],
      "text/plain": [
       "  Annotations                                            Reviews  \\\n",
       "0        -1/1  Love love love this place .. Its kind of small...   \n",
       "1        -1/0  The satay was ok, it was a little tough and sa...   \n",
       "2        -1/1  I loved the ambience of this place. Food was g...   \n",
       "3        -1/0  Sadly this place was a huge disappointment ser...   \n",
       "4        -1/1  This was my only chili crab experience and I s...   \n",
       "\n",
       "                                     Reviews_Cleaned  Annotator2  Annotator1  \\\n",
       "0  love love love this place it kind of small all...          -1           1   \n",
       "1  the satay wa ok it wa little tough and sauce w...          -1           0   \n",
       "2  loved the ambience of this place food wa great...          -1           1   \n",
       "3  sadly this place wa huge disappointment servic...          -1           0   \n",
       "4  this wa my only chili crab experience and sort...          -1           1   \n",
       "\n",
       "   Final_Annotation  \n",
       "0                 1  \n",
       "1                 0  \n",
       "2                 1  \n",
       "3                 0  \n",
       "4                 1  "
      ]
     },
     "execution_count": 31,
     "metadata": {},
     "output_type": "execute_result"
    }
   ],
   "source": [
    "# load the unclear review data with sentiment scores and get a peek\n",
    "train_df_clear = pd.read_csv(\"unsure_reviews_fixed.csv\")\n",
    "train_df_clear.head()"
   ]
  },
  {
   "cell_type": "code",
   "execution_count": 32,
   "metadata": {},
   "outputs": [],
   "source": [
    "#train_df_annot = pd.read_csv(\"PA3_train_annot.tsv\", names = [\"Annotations\", \"Reviews\", \"Final_Annotation\"], sep = \"\\t\")\n",
    "#train_df_annot"
   ]
  },
  {
   "cell_type": "code",
   "execution_count": 33,
   "metadata": {},
   "outputs": [],
   "source": [
    "# get cleaned reviews for self annotated train data\n",
    "#train_df_annot[\"Reviews_Cleaned\"] = train_df_annot[\"Reviews\"].apply(lambda x: review_cleaning(x))\n",
    "#train_df_annot"
   ]
  },
  {
   "cell_type": "code",
   "execution_count": 34,
   "metadata": {},
   "outputs": [
    {
     "data": {
      "text/html": [
       "<div>\n",
       "<style scoped>\n",
       "    .dataframe tbody tr th:only-of-type {\n",
       "        vertical-align: middle;\n",
       "    }\n",
       "\n",
       "    .dataframe tbody tr th {\n",
       "        vertical-align: top;\n",
       "    }\n",
       "\n",
       "    .dataframe thead th {\n",
       "        text-align: right;\n",
       "    }\n",
       "</style>\n",
       "<table border=\"1\" class=\"dataframe\">\n",
       "  <thead>\n",
       "    <tr style=\"text-align: right;\">\n",
       "      <th></th>\n",
       "      <th>Final_Annotation</th>\n",
       "      <th>Reviews</th>\n",
       "      <th>Reviews_Cleaned</th>\n",
       "    </tr>\n",
       "  </thead>\n",
       "  <tbody>\n",
       "    <tr>\n",
       "      <th>0</th>\n",
       "      <td>0</td>\n",
       "      <td>Ordered my food the hole meal looked dead. pla...</td>\n",
       "      <td>ordered my food the hole meal looked dead plai...</td>\n",
       "    </tr>\n",
       "    <tr>\n",
       "      <th>1</th>\n",
       "      <td>1</td>\n",
       "      <td>We stopped her whilst walking in the Haga area...</td>\n",
       "      <td>we stopped her whilst walking in the haga area...</td>\n",
       "    </tr>\n",
       "    <tr>\n",
       "      <th>2</th>\n",
       "      <td>0</td>\n",
       "      <td>Bad experience, On 23/03/19 Myself and my part...</td>\n",
       "      <td>bad experience on myself and my partner arrive...</td>\n",
       "    </tr>\n",
       "    <tr>\n",
       "      <th>3</th>\n",
       "      <td>0</td>\n",
       "      <td>Extremely underwhelming experience here last n...</td>\n",
       "      <td>extremely underwhelming experience here last n...</td>\n",
       "    </tr>\n",
       "    <tr>\n",
       "      <th>4</th>\n",
       "      <td>0</td>\n",
       "      <td>Waited 30 minutes to get a table…that was ok. ...</td>\n",
       "      <td>waited minute to get table that wa ok sat at t...</td>\n",
       "    </tr>\n",
       "  </tbody>\n",
       "</table>\n",
       "</div>"
      ],
      "text/plain": [
       "   Final_Annotation                                            Reviews  \\\n",
       "0                 0  Ordered my food the hole meal looked dead. pla...   \n",
       "1                 1  We stopped her whilst walking in the Haga area...   \n",
       "2                 0  Bad experience, On 23/03/19 Myself and my part...   \n",
       "3                 0  Extremely underwhelming experience here last n...   \n",
       "4                 0  Waited 30 minutes to get a table…that was ok. ...   \n",
       "\n",
       "                                     Reviews_Cleaned  \n",
       "0  ordered my food the hole meal looked dead plai...  \n",
       "1  we stopped her whilst walking in the haga area...  \n",
       "2  bad experience on myself and my partner arrive...  \n",
       "3  extremely underwhelming experience here last n...  \n",
       "4  waited minute to get table that wa ok sat at t...  "
      ]
     },
     "execution_count": 34,
     "metadata": {},
     "output_type": "execute_result"
    }
   ],
   "source": [
    "# merge both clean and now clear reviews and get a peek\n",
    "train_df_final = pd.concat([train_df_clean[[\"Final_Annotation\", \"Reviews\", \"Reviews_Cleaned\"]], \n",
    "                            train_df_clear[[\"Final_Annotation\", \"Reviews\", \"Reviews_Cleaned\"]]])\n",
    "                            #train_df_annot[[\"Final_Annotation\", \"Reviews\", \"Reviews_Cleaned\"]]])\n",
    "train_df_final.head()"
   ]
  },
  {
   "cell_type": "code",
   "execution_count": 65,
   "metadata": {},
   "outputs": [
    {
     "data": {
      "text/plain": [
       "(6685, 3)"
      ]
     },
     "execution_count": 65,
     "metadata": {},
     "output_type": "execute_result"
    }
   ],
   "source": [
    "train_df_final.shape"
   ]
  },
  {
   "cell_type": "code",
   "execution_count": 35,
   "metadata": {},
   "outputs": [
    {
     "data": {
      "image/png": "[encoded data removed]",
      "text/plain": [
       "<Figure size 640x480 with 1 Axes>"
      ]
     },
     "metadata": {},
     "output_type": "display_data"
    }
   ],
   "source": [
    "# check the distribution of positive vs negative reviews\n",
    "plt.figure()\n",
    "pd.value_counts(train_df_final[\"Final_Annotation\"]).plot.bar(title = \"Sentiment distribution in df\")\n",
    "plt.xlabel(\"Sentiment\")\n",
    "plt.ylabel(\"No. of rows in df\")\n",
    "plt.show()"
   ]
  },
  {
   "cell_type": "markdown",
   "metadata": {},
   "source": [
    "# Text Classification"
   ]
  },
  {
   "cell_type": "code",
   "execution_count": 36,
   "metadata": {},
   "outputs": [],
   "source": [
    "# set X_train, Y_train, X_test and Y_test\n",
    "X_train = train_df_final[\"Reviews_Cleaned\"]\n",
    "Y_train = train_df_final[\"Final_Annotation\"]\n",
    "X_test = test_df[\"Reviews_Cleaned\"]\n",
    "Y_test = test_df[\"Annotations\"]"
   ]
  },
  {
   "cell_type": "code",
   "execution_count": 37,
   "metadata": {},
   "outputs": [
    {
     "data": {
      "text/plain": [
       "(6685,)"
      ]
     },
     "execution_count": 37,
     "metadata": {},
     "output_type": "execute_result"
    }
   ],
   "source": [
    "X_train.shape"
   ]
  },
  {
   "cell_type": "code",
   "execution_count": 38,
   "metadata": {},
   "outputs": [
    {
     "data": {
      "text/plain": [
       "(6685,)"
      ]
     },
     "execution_count": 38,
     "metadata": {},
     "output_type": "execute_result"
    }
   ],
   "source": [
    "Y_train.shape"
   ]
  },
  {
   "cell_type": "markdown",
   "metadata": {},
   "source": [
    "## TF-IDF Visualisation"
   ]
  },
  {
   "cell_type": "code",
   "execution_count": 39,
   "metadata": {},
   "outputs": [
    {
     "data": {
      "text/html": [
       "<div>\n",
       "<style scoped>\n",
       "    .dataframe tbody tr th:only-of-type {\n",
       "        vertical-align: middle;\n",
       "    }\n",
       "\n",
       "    .dataframe tbody tr th {\n",
       "        vertical-align: top;\n",
       "    }\n",
       "\n",
       "    .dataframe thead th {\n",
       "        text-align: right;\n",
       "    }\n",
       "</style>\n",
       "<table border=\"1\" class=\"dataframe\">\n",
       "  <thead>\n",
       "    <tr style=\"text-align: right;\">\n",
       "      <th></th>\n",
       "      <th>review</th>\n",
       "      <th>term</th>\n",
       "      <th>tfidf</th>\n",
       "    </tr>\n",
       "  </thead>\n",
       "  <tbody>\n",
       "    <tr>\n",
       "      <th>66705121</th>\n",
       "      <td>6665</td>\n",
       "      <td>comment</td>\n",
       "      <td>0.303113</td>\n",
       "    </tr>\n",
       "    <tr>\n",
       "      <th>66706413</th>\n",
       "      <td>6665</td>\n",
       "      <td>except</td>\n",
       "      <td>0.293541</td>\n",
       "    </tr>\n",
       "    <tr>\n",
       "      <th>66712492</th>\n",
       "      <td>6665</td>\n",
       "      <td>tripadvisor</td>\n",
       "      <td>0.287128</td>\n",
       "    </tr>\n",
       "    <tr>\n",
       "      <th>66711402</th>\n",
       "      <td>6665</td>\n",
       "      <td>smile</td>\n",
       "      <td>0.281518</td>\n",
       "    </tr>\n",
       "    <tr>\n",
       "      <th>66710364</th>\n",
       "      <td>6665</td>\n",
       "      <td>rather</td>\n",
       "      <td>0.258361</td>\n",
       "    </tr>\n",
       "    <tr>\n",
       "      <th>...</th>\n",
       "      <td>...</td>\n",
       "      <td>...</td>\n",
       "      <td>...</td>\n",
       "    </tr>\n",
       "    <tr>\n",
       "      <th>66901520</th>\n",
       "      <td>6684</td>\n",
       "      <td>slightly</td>\n",
       "      <td>0.424071</td>\n",
       "    </tr>\n",
       "    <tr>\n",
       "      <th>66893489</th>\n",
       "      <td>6684</td>\n",
       "      <td>above</td>\n",
       "      <td>0.393854</td>\n",
       "    </tr>\n",
       "    <tr>\n",
       "      <th>66893757</th>\n",
       "      <td>6684</td>\n",
       "      <td>ambiance</td>\n",
       "      <td>0.336656</td>\n",
       "    </tr>\n",
       "    <tr>\n",
       "      <th>66901528</th>\n",
       "      <td>6684</td>\n",
       "      <td>slow</td>\n",
       "      <td>0.304470</td>\n",
       "    </tr>\n",
       "    <tr>\n",
       "      <th>66894406</th>\n",
       "      <td>6684</td>\n",
       "      <td>bit</td>\n",
       "      <td>0.289202</td>\n",
       "    </tr>\n",
       "  </tbody>\n",
       "</table>\n",
       "<p>100 rows × 3 columns</p>\n",
       "</div>"
      ],
      "text/plain": [
       "          review         term     tfidf\n",
       "66705121    6665      comment  0.303113\n",
       "66706413    6665       except  0.293541\n",
       "66712492    6665  tripadvisor  0.287128\n",
       "66711402    6665        smile  0.281518\n",
       "66710364    6665       rather  0.258361\n",
       "...          ...          ...       ...\n",
       "66901520    6684     slightly  0.424071\n",
       "66893489    6684        above  0.393854\n",
       "66893757    6684     ambiance  0.336656\n",
       "66901528    6684         slow  0.304470\n",
       "66894406    6684          bit  0.289202\n",
       "\n",
       "[100 rows x 3 columns]"
      ]
     },
     "execution_count": 39,
     "metadata": {},
     "output_type": "execute_result"
    }
   ],
   "source": [
    "tfidf_vectorizer = TfidfVectorizer()\n",
    "\n",
    "tfidf_vector = tfidf_vectorizer.fit_transform(X_train)\n",
    "\n",
    "tfidf_df = pd.DataFrame(tfidf_vector.toarray(), columns=tfidf_vectorizer.get_feature_names_out())\n",
    "\n",
    "tfidf_df.loc[\"00_Document Frequency\"] = (tfidf_df > 0).sum()\n",
    "\n",
    "tfidf_df = tfidf_df.drop(\"00_Document Frequency\", errors=\"ignore\")\n",
    "\n",
    "tfidf_stacked_df = tfidf_df.stack().reset_index()\n",
    "\n",
    "tfidf_stacked_df = tfidf_stacked_df.rename(columns={0:\"tfidf\", \"level_0\": \"review\",\"level_1\": \"term\", \"level_2\": \"term\"})\n",
    "\n",
    "top_tfidf = tfidf_stacked_df.sort_values(by = [\"review\", \"tfidf\"], ascending = [True, False]).groupby([\"review\"]).head(5)\n",
    "\n",
    "top_tfidf = top_tfidf.tail(100)\n",
    "\n",
    "top_tfidf"
   ]
  },
  {
   "cell_type": "code",
   "execution_count": 40,
   "metadata": {},
   "outputs": [
    {
     "data": {
      "text/html": [
       "<div>\n",
       "<style scoped>\n",
       "    .dataframe tbody tr th:only-of-type {\n",
       "        vertical-align: middle;\n",
       "    }\n",
       "\n",
       "    .dataframe tbody tr th {\n",
       "        vertical-align: top;\n",
       "    }\n",
       "\n",
       "    .dataframe thead th {\n",
       "        text-align: right;\n",
       "    }\n",
       "</style>\n",
       "<table border=\"1\" class=\"dataframe\">\n",
       "  <thead>\n",
       "    <tr style=\"text-align: right;\">\n",
       "      <th></th>\n",
       "      <th>aback</th>\n",
       "      <th>abandoned</th>\n",
       "      <th>abdul</th>\n",
       "      <th>abe</th>\n",
       "      <th>abhimanyu</th>\n",
       "      <th>ability</th>\n",
       "    </tr>\n",
       "  </thead>\n",
       "  <tbody>\n",
       "    <tr>\n",
       "      <th>0</th>\n",
       "      <td>0.0</td>\n",
       "      <td>0.0</td>\n",
       "      <td>0.0</td>\n",
       "      <td>0.0</td>\n",
       "      <td>0.0</td>\n",
       "      <td>0.0</td>\n",
       "    </tr>\n",
       "    <tr>\n",
       "      <th>1</th>\n",
       "      <td>0.0</td>\n",
       "      <td>0.0</td>\n",
       "      <td>0.0</td>\n",
       "      <td>0.0</td>\n",
       "      <td>0.0</td>\n",
       "      <td>0.0</td>\n",
       "    </tr>\n",
       "    <tr>\n",
       "      <th>2</th>\n",
       "      <td>0.0</td>\n",
       "      <td>0.0</td>\n",
       "      <td>0.0</td>\n",
       "      <td>0.0</td>\n",
       "      <td>0.0</td>\n",
       "      <td>0.0</td>\n",
       "    </tr>\n",
       "    <tr>\n",
       "      <th>3</th>\n",
       "      <td>0.0</td>\n",
       "      <td>0.0</td>\n",
       "      <td>0.0</td>\n",
       "      <td>0.0</td>\n",
       "      <td>0.0</td>\n",
       "      <td>0.0</td>\n",
       "    </tr>\n",
       "    <tr>\n",
       "      <th>4</th>\n",
       "      <td>0.0</td>\n",
       "      <td>0.0</td>\n",
       "      <td>0.0</td>\n",
       "      <td>0.0</td>\n",
       "      <td>0.0</td>\n",
       "      <td>0.0</td>\n",
       "    </tr>\n",
       "    <tr>\n",
       "      <th>...</th>\n",
       "      <td>...</td>\n",
       "      <td>...</td>\n",
       "      <td>...</td>\n",
       "      <td>...</td>\n",
       "      <td>...</td>\n",
       "      <td>...</td>\n",
       "    </tr>\n",
       "    <tr>\n",
       "      <th>6680</th>\n",
       "      <td>0.0</td>\n",
       "      <td>0.0</td>\n",
       "      <td>0.0</td>\n",
       "      <td>0.0</td>\n",
       "      <td>0.0</td>\n",
       "      <td>0.0</td>\n",
       "    </tr>\n",
       "    <tr>\n",
       "      <th>6681</th>\n",
       "      <td>0.0</td>\n",
       "      <td>0.0</td>\n",
       "      <td>0.0</td>\n",
       "      <td>0.0</td>\n",
       "      <td>0.0</td>\n",
       "      <td>0.0</td>\n",
       "    </tr>\n",
       "    <tr>\n",
       "      <th>6682</th>\n",
       "      <td>0.0</td>\n",
       "      <td>0.0</td>\n",
       "      <td>0.0</td>\n",
       "      <td>0.0</td>\n",
       "      <td>0.0</td>\n",
       "      <td>0.0</td>\n",
       "    </tr>\n",
       "    <tr>\n",
       "      <th>6683</th>\n",
       "      <td>0.0</td>\n",
       "      <td>0.0</td>\n",
       "      <td>0.0</td>\n",
       "      <td>0.0</td>\n",
       "      <td>0.0</td>\n",
       "      <td>0.0</td>\n",
       "    </tr>\n",
       "    <tr>\n",
       "      <th>6684</th>\n",
       "      <td>0.0</td>\n",
       "      <td>0.0</td>\n",
       "      <td>0.0</td>\n",
       "      <td>0.0</td>\n",
       "      <td>0.0</td>\n",
       "      <td>0.0</td>\n",
       "    </tr>\n",
       "  </tbody>\n",
       "</table>\n",
       "<p>6685 rows × 6 columns</p>\n",
       "</div>"
      ],
      "text/plain": [
       "      aback  abandoned  abdul  abe  abhimanyu  ability\n",
       "0       0.0        0.0    0.0  0.0        0.0      0.0\n",
       "1       0.0        0.0    0.0  0.0        0.0      0.0\n",
       "2       0.0        0.0    0.0  0.0        0.0      0.0\n",
       "3       0.0        0.0    0.0  0.0        0.0      0.0\n",
       "4       0.0        0.0    0.0  0.0        0.0      0.0\n",
       "...     ...        ...    ...  ...        ...      ...\n",
       "6680    0.0        0.0    0.0  0.0        0.0      0.0\n",
       "6681    0.0        0.0    0.0  0.0        0.0      0.0\n",
       "6682    0.0        0.0    0.0  0.0        0.0      0.0\n",
       "6683    0.0        0.0    0.0  0.0        0.0      0.0\n",
       "6684    0.0        0.0    0.0  0.0        0.0      0.0\n",
       "\n",
       "[6685 rows x 6 columns]"
      ]
     },
     "execution_count": 40,
     "metadata": {},
     "output_type": "execute_result"
    }
   ],
   "source": [
    "tfidf_df_few =  tfidf_df[['aback', 'abandoned', 'abdul', 'abe', 'abhimanyu', 'ability']]\n",
    "tfidf_df_few"
   ]
  },
  {
   "cell_type": "code",
   "execution_count": 41,
   "metadata": {},
   "outputs": [
    {
     "data": {
      "text/html": [
       "<div>\n",
       "<style scoped>\n",
       "    .dataframe tbody tr th:only-of-type {\n",
       "        vertical-align: middle;\n",
       "    }\n",
       "\n",
       "    .dataframe tbody tr th {\n",
       "        vertical-align: top;\n",
       "    }\n",
       "\n",
       "    .dataframe thead th {\n",
       "        text-align: right;\n",
       "    }\n",
       "</style>\n",
       "<table border=\"1\" class=\"dataframe\">\n",
       "  <thead>\n",
       "    <tr style=\"text-align: right;\">\n",
       "      <th></th>\n",
       "      <th>aback</th>\n",
       "      <th>abandoned</th>\n",
       "      <th>abdul</th>\n",
       "      <th>abe</th>\n",
       "      <th>abhimanyu</th>\n",
       "      <th>ability</th>\n",
       "    </tr>\n",
       "  </thead>\n",
       "  <tbody>\n",
       "    <tr>\n",
       "      <th>0</th>\n",
       "      <td>0.000000</td>\n",
       "      <td>0.000000</td>\n",
       "      <td>0.000000</td>\n",
       "      <td>0.000000</td>\n",
       "      <td>0.000000</td>\n",
       "      <td>0.000000</td>\n",
       "    </tr>\n",
       "    <tr>\n",
       "      <th>1017</th>\n",
       "      <td>0.050263</td>\n",
       "      <td>0.000000</td>\n",
       "      <td>0.000000</td>\n",
       "      <td>0.000000</td>\n",
       "      <td>0.000000</td>\n",
       "      <td>0.000000</td>\n",
       "    </tr>\n",
       "    <tr>\n",
       "      <th>1349</th>\n",
       "      <td>0.000000</td>\n",
       "      <td>0.000000</td>\n",
       "      <td>0.000000</td>\n",
       "      <td>0.000000</td>\n",
       "      <td>0.000000</td>\n",
       "      <td>0.136767</td>\n",
       "    </tr>\n",
       "    <tr>\n",
       "      <th>1509</th>\n",
       "      <td>0.000000</td>\n",
       "      <td>0.000000</td>\n",
       "      <td>0.397519</td>\n",
       "      <td>0.000000</td>\n",
       "      <td>0.000000</td>\n",
       "      <td>0.000000</td>\n",
       "    </tr>\n",
       "    <tr>\n",
       "      <th>1565</th>\n",
       "      <td>0.000000</td>\n",
       "      <td>0.000000</td>\n",
       "      <td>0.391244</td>\n",
       "      <td>0.000000</td>\n",
       "      <td>0.000000</td>\n",
       "      <td>0.000000</td>\n",
       "    </tr>\n",
       "    <tr>\n",
       "      <th>3214</th>\n",
       "      <td>0.000000</td>\n",
       "      <td>0.325172</td>\n",
       "      <td>0.000000</td>\n",
       "      <td>0.000000</td>\n",
       "      <td>0.000000</td>\n",
       "      <td>0.000000</td>\n",
       "    </tr>\n",
       "    <tr>\n",
       "      <th>3390</th>\n",
       "      <td>0.000000</td>\n",
       "      <td>0.000000</td>\n",
       "      <td>0.000000</td>\n",
       "      <td>0.000000</td>\n",
       "      <td>0.000000</td>\n",
       "      <td>0.183184</td>\n",
       "    </tr>\n",
       "    <tr>\n",
       "      <th>4563</th>\n",
       "      <td>0.000000</td>\n",
       "      <td>0.000000</td>\n",
       "      <td>0.459195</td>\n",
       "      <td>0.000000</td>\n",
       "      <td>0.000000</td>\n",
       "      <td>0.000000</td>\n",
       "    </tr>\n",
       "    <tr>\n",
       "      <th>4712</th>\n",
       "      <td>0.093010</td>\n",
       "      <td>0.000000</td>\n",
       "      <td>0.000000</td>\n",
       "      <td>0.000000</td>\n",
       "      <td>0.000000</td>\n",
       "      <td>0.000000</td>\n",
       "    </tr>\n",
       "    <tr>\n",
       "      <th>6067</th>\n",
       "      <td>0.000000</td>\n",
       "      <td>0.000000</td>\n",
       "      <td>0.000000</td>\n",
       "      <td>0.000000</td>\n",
       "      <td>0.305113</td>\n",
       "      <td>0.000000</td>\n",
       "    </tr>\n",
       "    <tr>\n",
       "      <th>6458</th>\n",
       "      <td>0.000000</td>\n",
       "      <td>0.000000</td>\n",
       "      <td>0.000000</td>\n",
       "      <td>0.134862</td>\n",
       "      <td>0.000000</td>\n",
       "      <td>0.000000</td>\n",
       "    </tr>\n",
       "    <tr>\n",
       "      <th>6493</th>\n",
       "      <td>0.000000</td>\n",
       "      <td>0.000000</td>\n",
       "      <td>0.000000</td>\n",
       "      <td>0.091265</td>\n",
       "      <td>0.000000</td>\n",
       "      <td>0.000000</td>\n",
       "    </tr>\n",
       "  </tbody>\n",
       "</table>\n",
       "</div>"
      ],
      "text/plain": [
       "         aback  abandoned     abdul       abe  abhimanyu   ability\n",
       "0     0.000000   0.000000  0.000000  0.000000   0.000000  0.000000\n",
       "1017  0.050263   0.000000  0.000000  0.000000   0.000000  0.000000\n",
       "1349  0.000000   0.000000  0.000000  0.000000   0.000000  0.136767\n",
       "1509  0.000000   0.000000  0.397519  0.000000   0.000000  0.000000\n",
       "1565  0.000000   0.000000  0.391244  0.000000   0.000000  0.000000\n",
       "3214  0.000000   0.325172  0.000000  0.000000   0.000000  0.000000\n",
       "3390  0.000000   0.000000  0.000000  0.000000   0.000000  0.183184\n",
       "4563  0.000000   0.000000  0.459195  0.000000   0.000000  0.000000\n",
       "4712  0.093010   0.000000  0.000000  0.000000   0.000000  0.000000\n",
       "6067  0.000000   0.000000  0.000000  0.000000   0.305113  0.000000\n",
       "6458  0.000000   0.000000  0.000000  0.134862   0.000000  0.000000\n",
       "6493  0.000000   0.000000  0.000000  0.091265   0.000000  0.000000"
      ]
     },
     "execution_count": 41,
     "metadata": {},
     "output_type": "execute_result"
    }
   ],
   "source": [
    "tfidf_df_few.drop_duplicates(subset = ['aback', 'abandoned', 'abdul', 'abe', 'abhimanyu', 'ability'],\n",
    "                     keep = \"first\", inplace = True)\n",
    "tfidf_df_few"
   ]
  },
  {
   "cell_type": "code",
   "execution_count": 42,
   "metadata": {},
   "outputs": [
    {
     "name": "stdout",
     "output_type": "stream",
     "text": [
      "\\begin{tabular}{lrrrrrr}\n",
      "\\toprule\n",
      "{} &     aback &  abandoned &     abdul &       abe &  abhimanyu &   ability \\\\\n",
      "\\midrule\n",
      "0    &  0.000000 &   0.000000 &  0.000000 &  0.000000 &   0.000000 &  0.000000 \\\\\n",
      "1017 &  0.050263 &   0.000000 &  0.000000 &  0.000000 &   0.000000 &  0.000000 \\\\\n",
      "1349 &  0.000000 &   0.000000 &  0.000000 &  0.000000 &   0.000000 &  0.136767 \\\\\n",
      "1509 &  0.000000 &   0.000000 &  0.397519 &  0.000000 &   0.000000 &  0.000000 \\\\\n",
      "1565 &  0.000000 &   0.000000 &  0.391244 &  0.000000 &   0.000000 &  0.000000 \\\\\n",
      "3214 &  0.000000 &   0.325172 &  0.000000 &  0.000000 &   0.000000 &  0.000000 \\\\\n",
      "3390 &  0.000000 &   0.000000 &  0.000000 &  0.000000 &   0.000000 &  0.183184 \\\\\n",
      "4563 &  0.000000 &   0.000000 &  0.459195 &  0.000000 &   0.000000 &  0.000000 \\\\\n",
      "4712 &  0.093010 &   0.000000 &  0.000000 &  0.000000 &   0.000000 &  0.000000 \\\\\n",
      "6067 &  0.000000 &   0.000000 &  0.000000 &  0.000000 &   0.305113 &  0.000000 \\\\\n",
      "6458 &  0.000000 &   0.000000 &  0.000000 &  0.134862 &   0.000000 &  0.000000 \\\\\n",
      "6493 &  0.000000 &   0.000000 &  0.000000 &  0.091265 &   0.000000 &  0.000000 \\\\\n",
      "\\bottomrule\n",
      "\\end{tabular}\n",
      "\n"
     ]
    }
   ],
   "source": [
    "print(tfidf_df_few.to_latex())"
   ]
  },
  {
   "cell_type": "code",
   "execution_count": 43,
   "metadata": {},
   "outputs": [
    {
     "data": {
      "text/html": [
       "\n",
       "<div id=\"altair-viz-49a209cecdb24b699e74fd3f2f2df4e8\"></div>\n",
       "<script type=\"text/javascript\">\n",
       "  var VEGA_DEBUG = (typeof VEGA_DEBUG == \"undefined\") ? {} : VEGA_DEBUG;\n",
       "  (function(spec, embedOpt){\n",
       "    let outputDiv = document.currentScript.previousElementSibling;\n",
       "    if (outputDiv.id !== \"altair-viz-49a209cecdb24b699e74fd3f2f2df4e8\") {\n",
       "      outputDiv = document.getElementById(\"altair-viz-49a209cecdb24b699e74fd3f2f2df4e8\");\n",
       "    }\n",
       "    const paths = {\n",
       "      \"vega\": \"https://cdn.jsdelivr.net/npm//vega@5?noext\",\n",
       "      \"vega-lib\": \"https://cdn.jsdelivr.net/npm//vega-lib?noext\",\n",
       "      \"vega-lite\": \"https://cdn.jsdelivr.net/npm//vega-lite@4.17.0?noext\",\n",
       "      \"vega-embed\": \"https://cdn.jsdelivr.net/npm//vega-embed@6?noext\",\n",
       "    };\n",
       "\n",
       "    function maybeLoadScript(lib, version) {\n",
       "      var key = `${lib.replace(\"-\", \"\")}_version`;\n",
       "      return (VEGA_DEBUG[key] == version) ?\n",
       "        Promise.resolve(paths[lib]) :\n",
       "        new Promise(function(resolve, reject) {\n",
       "          var s = document.createElement('script');\n",
       "          document.getElementsByTagName(\"head\")[0].appendChild(s);\n",
       "          s.async = true;\n",
       "          s.onload = () => {\n",
       "            VEGA_DEBUG[key] = version;\n",
       "            return resolve(paths[lib]);\n",
       "          };\n",
       "          s.onerror = () => reject(`Error loading script: ${paths[lib]}`);\n",
       "          s.src = paths[lib];\n",
       "        });\n",
       "    }\n",
       "\n",
       "    function showError(err) {\n",
       "      outputDiv.innerHTML = `<div class=\"error\" style=\"color:red;\">${err}</div>`;\n",
       "      throw err;\n",
       "    }\n",
       "\n",
       "    function displayChart(vegaEmbed) {\n",
       "      vegaEmbed(outputDiv, spec, embedOpt)\n",
       "        .catch(err => showError(`Javascript Error: ${err.message}<br>This usually means there's a typo in your chart specification. See the javascript console for the full traceback.`));\n",
       "    }\n",
       "\n",
       "    if(typeof define === \"function\" && define.amd) {\n",
       "      requirejs.config({paths});\n",
       "      require([\"vega-embed\"], displayChart, err => showError(`Error loading script: ${err.message}`));\n",
       "    } else {\n",
       "      maybeLoadScript(\"vega\", \"5\")\n",
       "        .then(() => maybeLoadScript(\"vega-lite\", \"4.17.0\"))\n",
       "        .then(() => maybeLoadScript(\"vega-embed\", \"6\"))\n",
       "        .catch(showError)\n",
       "        .then(() => displayChart(vegaEmbed));\n",
       "    }\n",
       "  })({\"config\": {\"view\": {\"continuousWidth\": 400, \"continuousHeight\": 300}}, \"layer\": [{\"mark\": \"rect\", \"encoding\": {\"color\": {\"field\": \"tfidf\", \"type\": \"quantitative\"}, \"x\": {\"field\": \"rank\", \"type\": \"ordinal\"}, \"y\": {\"field\": \"review\", \"type\": \"nominal\"}}, \"transform\": [{\"window\": [{\"op\": \"rank\", \"field\": \"\", \"as\": \"rank\"}], \"groupby\": [\"review\"], \"sort\": [{\"field\": \"tfidf\", \"order\": \"descending\"}]}]}, {\"mark\": {\"type\": \"text\", \"baseline\": \"middle\"}, \"encoding\": {\"color\": {\"condition\": {\"value\": \"white\", \"test\": \"(datum.tfidf >= 0.23)\"}, \"value\": \"black\"}, \"text\": {\"field\": \"term\", \"type\": \"nominal\"}, \"x\": {\"field\": \"rank\", \"type\": \"ordinal\"}, \"y\": {\"field\": \"review\", \"type\": \"nominal\"}}, \"transform\": [{\"window\": [{\"op\": \"rank\", \"field\": \"\", \"as\": \"rank\"}], \"groupby\": [\"review\"], \"sort\": [{\"field\": \"tfidf\", \"order\": \"descending\"}]}]}], \"data\": {\"name\": \"data-b0aa454d2de7aed17e9c9dc7853813c9\"}, \"width\": 600, \"$schema\": \"https://vega.github.io/schema/vega-lite/v4.17.0.json\", \"datasets\": {\"data-b0aa454d2de7aed17e9c9dc7853813c9\": [{\"review\": 6665, \"term\": \"comment\", \"tfidf\": 0.3031923718786191}, {\"review\": 6665, \"term\": \"except\", \"tfidf\": 0.293622809283064}, {\"review\": 6665, \"term\": \"tripadvisor\", \"tfidf\": 0.2871390734714046}, {\"review\": 6665, \"term\": \"smile\", \"tfidf\": 0.2816016070888912}, {\"review\": 6665, \"term\": \"rather\", \"tfidf\": 0.25837402909647095}, {\"review\": 6666, \"term\": \"impressive\", \"tfidf\": 0.3768726198479794}, {\"review\": 6666, \"term\": \"courteous\", \"tfidf\": 0.36880623254010153}, {\"review\": 6666, \"term\": \"buffet\", \"tfidf\": 0.3282623209017508}, {\"review\": 6666, \"term\": \"awesome\", \"tfidf\": 0.28960877716423217}, {\"review\": 6666, \"term\": \"ambience\", \"tfidf\": 0.27615322626941974}, {\"review\": 6667, \"term\": \"timing\", \"tfidf\": 0.6886701946225269}, {\"review\": 6667, \"term\": \"very\", \"tfidf\": 0.42110694671202203}, {\"review\": 6667, \"term\": \"bad\", \"tfidf\": 0.3517142829479107}, {\"review\": 6667, \"term\": \"good\", \"tfidf\": 0.22941744605152412}, {\"review\": 6667, \"term\": \"but\", \"tfidf\": 0.22692537875392096}, {\"review\": 6668, \"term\": \"kid\", \"tfidf\": 0.45421886481616447}, {\"review\": 6668, \"term\": \"curry\", \"tfidf\": 0.2769667278843715}, {\"review\": 6668, \"term\": \"unhappily\", \"tfidf\": 0.24759394970894905}, {\"review\": 6668, \"term\": \"ok\", \"tfidf\": 0.24239009629087221}, {\"review\": 6668, \"term\": \"for\", \"tfidf\": 0.22305770693076582}, {\"review\": 6669, \"term\": \"cinnamon\", \"tfidf\": 0.2730202372779767}, {\"review\": 6669, \"term\": \"roll\", \"tfidf\": 0.27211452617438986}, {\"review\": 6669, \"term\": \"appease\", \"tfidf\": 0.20890097388345466}, {\"review\": 6669, \"term\": \"konditori\", \"tfidf\": 0.2089279210673096}, {\"review\": 6669, \"term\": \"dissatisfaction\", \"tfidf\": 0.19958256110421982}, {\"review\": 6670, \"term\": \"upto\", \"tfidf\": 0.44775405948428204}, {\"review\": 6670, \"term\": \"suited\", \"tfidf\": 0.39384979429599604}, {\"review\": 6670, \"term\": \"foreign\", \"tfidf\": 0.3796592755550472}, {\"review\": 6670, \"term\": \"crowd\", \"tfidf\": 0.3640320893324383}, {\"review\": 6670, \"term\": \"mark\", \"tfidf\": 0.35583428385548077}, {\"review\": 6671, \"term\": \"additional\", \"tfidf\": 0.3228598116503189}, {\"review\": 6671, \"term\": \"it\", \"tfidf\": 0.2856566137802954}, {\"review\": 6671, \"term\": \"item\", \"tfidf\": 0.24575911225584496}, {\"review\": 6671, \"term\": \"bill\", \"tfidf\": 0.2168540106731935}, {\"review\": 6671, \"term\": \"targeting\", \"tfidf\": 0.21104596383665472}, {\"review\": 6672, \"term\": \"too\", \"tfidf\": 0.3763222914871092}, {\"review\": 6672, \"term\": \"cheese\", \"tfidf\": 0.33802938529495397}, {\"review\": 6672, \"term\": \"lovenice\", \"tfidf\": 0.30840629933063823}, {\"review\": 6672, \"term\": \"meatpie\", \"tfidf\": 0.30842082964490775}, {\"review\": 6672, \"term\": \"much\", \"tfidf\": 0.2695013173024511}, {\"review\": 6673, \"term\": \"environment\", \"tfidf\": 0.5206166950105464}, {\"review\": 6673, \"term\": \"extra\", \"tfidf\": 0.4875832319960174}, {\"review\": 6673, \"term\": \"ok\", \"tfidf\": 0.39517769144642945}, {\"review\": 6673, \"term\": \"nothing\", \"tfidf\": 0.38832295890170737}, {\"review\": 6673, \"term\": \"the\", \"tfidf\": 0.233163231830218}, {\"review\": 6674, \"term\": \"worse\", \"tfidf\": 0.6418789518035121}, {\"review\": 6674, \"term\": \"ok\", \"tfidf\": 0.5040517344551881}, {\"review\": 6674, \"term\": \"much\", \"tfidf\": 0.44993113250747857}, {\"review\": 6674, \"term\": \"service\", \"tfidf\": 0.2393735190139838}, {\"review\": 6674, \"term\": \"food\", \"tfidf\": 0.1936604718953239}, {\"review\": 6675, \"term\": \"the\", \"tfidf\": 0.2528671416708548}, {\"review\": 6675, \"term\": \"varied\", \"tfidf\": 0.23743836550172268}, {\"review\": 6675, \"term\": \"opted\", \"tfidf\": 0.22967652593262722}, {\"review\": 6675, \"term\": \"oily\", \"tfidf\": 0.22541229991955763}, {\"review\": 6675, \"term\": \"generally\", \"tfidf\": 0.21991032521197018}, {\"review\": 6676, \"term\": \"fault\", \"tfidf\": 0.5222087605671237}, {\"review\": 6676, \"term\": \"area\", \"tfidf\": 0.3969751377957297}, {\"review\": 6676, \"term\": \"their\", \"tfidf\": 0.32503216863442225}, {\"review\": 6676, \"term\": \"bad\", \"tfidf\": 0.3216139543038266}, {\"review\": 6676, \"term\": \"which\", \"tfidf\": 0.29203463833217813}, {\"review\": 6677, \"term\": \"wine\", \"tfidf\": 0.3024499784909433}, {\"review\": 6677, \"term\": \"tequila\", \"tfidf\": 0.2959461197976691}, {\"review\": 6677, \"term\": \"asked\", \"tfidf\": 0.28656337503323126}, {\"review\": 6677, \"term\": \"argued\", \"tfidf\": 0.2860948310361371}, {\"review\": 6677, \"term\": \"he\", \"tfidf\": 0.27642693885874103}, {\"review\": 6678, \"term\": \"amazingly\", \"tfidf\": 0.5110841595296178}, {\"review\": 6678, \"term\": \"unbelievable\", \"tfidf\": 0.44914193570209865}, {\"review\": 6678, \"term\": \"outstanding\", \"tfidf\": 0.37424717361292054}, {\"review\": 6678, \"term\": \"value\", \"tfidf\": 0.3413250687764249}, {\"review\": 6678, \"term\": \"high\", \"tfidf\": 0.31456978686435416}, {\"review\": 6679, \"term\": \"into\", \"tfidf\": 0.3218515882881815}, {\"review\": 6679, \"term\": \"snot\", \"tfidf\": 0.28141523268787094}, {\"review\": 6679, \"term\": \"rocket\", \"tfidf\": 0.2689102152542604}, {\"review\": 6679, \"term\": \"heading\", \"tfidf\": 0.2530614963820289}, {\"review\": 6679, \"term\": \"whose\", \"tfidf\": 0.25305611272627865}, {\"review\": 6680, \"term\": \"annoying\", \"tfidf\": 0.38395202594803235}, {\"review\": 6680, \"term\": \"apart\", \"tfidf\": 0.3392032933066335}, {\"review\": 6680, \"term\": \"five\", \"tfidf\": 0.3229328960217785}, {\"review\": 6680, \"term\": \"pleasant\", \"tfidf\": 0.27634886430397126}, {\"review\": 6680, \"term\": \"busy\", \"tfidf\": 0.24618047115257252}, {\"review\": 6681, \"term\": \"tango\", \"tfidf\": 0.4503965445790385}, {\"review\": 6681, \"term\": \"big\", \"tfidf\": 0.2963050364233497}, {\"review\": 6681, \"term\": \"singing\", \"tfidf\": 0.2589702558518546}, {\"review\": 6681, \"term\": \"vulgar\", \"tfidf\": 0.25896412917867845}, {\"review\": 6681, \"term\": \"not\", \"tfidf\": 0.2558447493301701}, {\"review\": 6682, \"term\": \"concise\", \"tfidf\": 0.22626145491728528}, {\"review\": 6682, \"term\": \"favoring\", \"tfidf\": 0.22625950307350395}, {\"review\": 6682, \"term\": \"positioning\", \"tfidf\": 0.2263506601765027}, {\"review\": 6682, \"term\": \"selects\", \"tfidf\": 0.2263211251512735}, {\"review\": 6682, \"term\": \"taipan\", \"tfidf\": 0.2262746313741308}, {\"review\": 6683, \"term\": \"railway\", \"tfidf\": 0.39632073196884604}, {\"review\": 6683, \"term\": \"mineral\", \"tfidf\": 0.366165570024133}, {\"review\": 6683, \"term\": \"classic\", \"tfidf\": 0.2771013872241215}, {\"review\": 6683, \"term\": \"included\", \"tfidf\": 0.27444558528569696}, {\"review\": 6683, \"term\": \"near\", \"tfidf\": 0.24696411880518257}, {\"review\": 6684, \"term\": \"slightly\", \"tfidf\": 0.4241562800072409}, {\"review\": 6684, \"term\": \"above\", \"tfidf\": 0.39391017994781596}, {\"review\": 6684, \"term\": \"ambiance\", \"tfidf\": 0.33665976695580385}, {\"review\": 6684, \"term\": \"slow\", \"tfidf\": 0.304568384459476}, {\"review\": 6684, \"term\": \"bit\", \"tfidf\": 0.2892100515517773}]}}, {\"mode\": \"vega-lite\"});\n",
       "</script>"
      ],
      "text/plain": [
       "alt.LayerChart(...)"
      ]
     },
     "execution_count": 43,
     "metadata": {},
     "output_type": "execute_result"
    }
   ],
   "source": [
    "alt.data_transformers.disable_max_rows()\n",
    "\n",
    "\n",
    "# adding a little randomness to break ties in term ranking\n",
    "top_tfidf_plusRand = top_tfidf.copy()\n",
    "top_tfidf_plusRand['tfidf'] = top_tfidf_plusRand['tfidf'] + np.random.rand(top_tfidf.shape[0])*0.0001\n",
    "\n",
    "# base for all visualizations, with rank calculation\n",
    "base = alt.Chart(top_tfidf_plusRand).encode(\n",
    "    x = 'rank:O',\n",
    "    y = 'review:N'\n",
    ").transform_window(\n",
    "    rank = \"rank()\",\n",
    "    sort = [alt.SortField(\"tfidf\", order=\"descending\")],\n",
    "    groupby = [\"review\"],\n",
    ")\n",
    "\n",
    "# heatmap specification\n",
    "heatmap = base.mark_rect().encode(\n",
    "    color = 'tfidf:Q'\n",
    ")\n",
    "\n",
    "# text labels, white for darker heatmap colors\n",
    "text = base.mark_text(baseline='middle').encode(\n",
    "    text = 'term:N',\n",
    "    color = alt.condition(alt.datum.tfidf >= 0.23, alt.value('white'), alt.value('black'))\n",
    ")\n",
    "\n",
    "# display the three superimposed visualizations\n",
    "(heatmap + text).properties(width = 600)"
   ]
  },
  {
   "cell_type": "markdown",
   "metadata": {},
   "source": [
    "## TF-IDF with Dummy Classifier"
   ]
  },
  {
   "cell_type": "code",
   "execution_count": 44,
   "metadata": {},
   "outputs": [
    {
     "name": "stdout",
     "output_type": "stream",
     "text": [
      "              precision    recall  f1-score   support\n",
      "\n",
      "    Positive       0.00      0.00      0.00       865\n",
      "    Negative       0.51      1.00      0.67       886\n",
      "\n",
      "    accuracy                           0.51      1751\n",
      "   macro avg       0.25      0.50      0.34      1751\n",
      "weighted avg       0.26      0.51      0.34      1751\n",
      "\n"
     ]
    }
   ],
   "source": [
    "# create tf-idf with dummy classifier\n",
    "pipeline_dclf = make_pipeline(TfidfVectorizer(), DummyClassifier())\n",
    "\n",
    "# fit the pipeline\n",
    "pipeline_dclf.fit(X_train, Y_train)\n",
    "\n",
    "# get the prediction\n",
    "Y_pred = pipeline_dclf.predict(X_test)\n",
    "\n",
    "# view the classification report\n",
    "print(metrics.classification_report(Y_test, Y_pred, target_names = [\"Positive\", \"Negative\"]))"
   ]
  },
  {
   "cell_type": "markdown",
   "metadata": {},
   "source": [
    "## TF-IDF with Bernoulli Naive Bayes"
   ]
  },
  {
   "cell_type": "code",
   "execution_count": 45,
   "metadata": {},
   "outputs": [
    {
     "name": "stdout",
     "output_type": "stream",
     "text": [
      "              precision    recall  f1-score   support\n",
      "\n",
      "    Positive       0.92      0.75      0.83       865\n",
      "    Negative       0.79      0.93      0.86       886\n",
      "\n",
      "    accuracy                           0.84      1751\n",
      "   macro avg       0.86      0.84      0.84      1751\n",
      "weighted avg       0.85      0.84      0.84      1751\n",
      "\n"
     ]
    }
   ],
   "source": [
    "# create tf-idf with multinomial naive bayes\n",
    "pipeline_bnb = make_pipeline(TfidfVectorizer(binary = True), BernoulliNB())\n",
    "\n",
    "# fit the pipeline\n",
    "pipeline_bnb.fit(X_train, Y_train)\n",
    "\n",
    "# get the prediction\n",
    "Y_pred = pipeline_bnb.predict(X_test)\n",
    "\n",
    "# view the classification report\n",
    "print(metrics.classification_report(Y_test, Y_pred, target_names = [\"Positive\", \"Negative\"]))"
   ]
  },
  {
   "cell_type": "markdown",
   "metadata": {},
   "source": [
    "## TF-IDF with Multinomial Naive Bayes"
   ]
  },
  {
   "cell_type": "code",
   "execution_count": 46,
   "metadata": {},
   "outputs": [
    {
     "name": "stdout",
     "output_type": "stream",
     "text": [
      "              precision    recall  f1-score   support\n",
      "\n",
      "    Positive       0.95      0.95      0.95       865\n",
      "    Negative       0.95      0.95      0.95       886\n",
      "\n",
      "    accuracy                           0.95      1751\n",
      "   macro avg       0.95      0.95      0.95      1751\n",
      "weighted avg       0.95      0.95      0.95      1751\n",
      "\n"
     ]
    }
   ],
   "source": [
    "# create tf-idf with multinomial naive bayes\n",
    "pipeline_mnb = make_pipeline(TfidfVectorizer(), MultinomialNB())\n",
    "\n",
    "# fit the pipeline\n",
    "pipeline_mnb.fit(X_train, Y_train)\n",
    "\n",
    "# get the prediction\n",
    "Y_pred = pipeline_mnb.predict(X_test)\n",
    "\n",
    "# view the classification report\n",
    "print(metrics.classification_report(Y_test, Y_pred, target_names = [\"Positive\", \"Negative\"]))"
   ]
  },
  {
   "cell_type": "markdown",
   "metadata": {},
   "source": [
    "## TF-IDF with Linear SVC"
   ]
  },
  {
   "cell_type": "code",
   "execution_count": 47,
   "metadata": {},
   "outputs": [
    {
     "name": "stdout",
     "output_type": "stream",
     "text": [
      "              precision    recall  f1-score   support\n",
      "\n",
      "    Positive       0.96      0.97      0.97       865\n",
      "    Negative       0.97      0.96      0.97       886\n",
      "\n",
      "    accuracy                           0.97      1751\n",
      "   macro avg       0.97      0.97      0.97      1751\n",
      "weighted avg       0.97      0.97      0.97      1751\n",
      "\n"
     ]
    }
   ],
   "source": [
    "# create tf-idf with linear svc\n",
    "pipeline_lsvc = make_pipeline(TfidfVectorizer(), LinearSVC(random_state = 123))\n",
    "\n",
    "# fit the pipeline\n",
    "pipeline_lsvc.fit(X_train, Y_train)\n",
    "\n",
    "# get the prediction\n",
    "Y_pred = pipeline_lsvc.predict(X_test)\n",
    "\n",
    "# view the classification report\n",
    "print(metrics.classification_report(Y_test, Y_pred, target_names = [\"Positive\", \"Negative\"]))"
   ]
  },
  {
   "cell_type": "markdown",
   "metadata": {},
   "source": [
    "## Hyperparameter Tuning"
   ]
  },
  {
   "cell_type": "code",
   "execution_count": 48,
   "metadata": {},
   "outputs": [],
   "source": [
    "# create list of pipelines\n",
    "pipelines =  [pipeline_bnb, pipeline_mnb, pipeline_lsvc]\n",
    "\n",
    "# select parameters for each one\n",
    "param_bnb = {\n",
    "    \"bernoullinb__alpha\": [0.1, 0.2, 0.3, 0.4, 0.5, 0.6, 0.7, 0.8, 0.9, 1],\n",
    "    \"bernoullinb__fit_prior\": [True, False]\n",
    "}\n",
    "param_mnb = {\n",
    "    \"multinomialnb__alpha\": [0.1, 0.2, 0.3, 0.4, 0.5, 0.6, 0.7, 0.8, 0.9, 1],\n",
    "    \"multinomialnb__fit_prior\": [True, False]\n",
    "}\n",
    "param_lsvc = {\n",
    "    \"linearsvc__C\": [1, 10, 100, 1000], \n",
    "    \"linearsvc__dual\": [True, False], \n",
    "    \"linearsvc__random_state\": [123]\n",
    "}\n",
    "\n",
    "# create list of params\n",
    "params_list = [param_bnb, param_mnb, param_lsvc]\n"
   ]
  },
  {
   "cell_type": "code",
   "execution_count": 49,
   "metadata": {},
   "outputs": [
    {
     "name": "stdout",
     "output_type": "stream",
     "text": [
      "Testing parameters for Pipeline(steps=[('tfidfvectorizer', TfidfVectorizer(binary=True)),\n",
      "                ('bernoullinb', BernoulliNB())])\n",
      "Best parameters set:\n",
      "[('tfidfvectorizer', TfidfVectorizer(binary=True)), ('bernoullinb', BernoulliNB(alpha=0.1))]\n",
      "\n",
      "\n",
      "0.958837958054217\n",
      "\n",
      "\n",
      "Testing parameters for Pipeline(steps=[('tfidfvectorizer', TfidfVectorizer()),\n",
      "                ('multinomialnb', MultinomialNB())])\n",
      "Best parameters set:\n",
      "[('tfidfvectorizer', TfidfVectorizer()), ('multinomialnb', MultinomialNB(alpha=0.5))]\n",
      "\n",
      "\n",
      "0.9913131757290566\n",
      "\n",
      "\n",
      "Testing parameters for Pipeline(steps=[('tfidfvectorizer', TfidfVectorizer()),\n",
      "                ('linearsvc', LinearSVC(random_state=123))])\n",
      "Best parameters set:\n",
      "[('tfidfvectorizer', TfidfVectorizer()), ('linearsvc', LinearSVC(C=1, dual=False, random_state=123))]\n",
      "\n",
      "\n",
      "0.9937490380759686\n",
      "\n",
      "\n"
     ]
    }
   ],
   "source": [
    "# Run gridsearch and use zip to attach each models to their parameters \n",
    "best_clf = \"\"\n",
    "best_score = -1\n",
    "best_parameters = {}\n",
    "for pipe, params in zip(pipelines, params_list): \n",
    "    print(f\"Testing parameters for {pipe}\")\n",
    "    grid = GridSearchCV(estimator=pipe, param_grid=params, verbose=0, cv=5, n_jobs=-1, scoring=\"roc_auc\").fit(X_train, Y_train)\n",
    "    if grid.best_score_ > best_score:\n",
    "        best_clf = grid.best_estimator_\n",
    "        best_score = grid.best_score_\n",
    "        best_parameters = grid.best_params_\n",
    "        best_keys = list(grid.best_estimator_.named_steps.keys())\n",
    "        if isinstance(grid.best_estimator_.named_steps[best_keys[1]], LinearSVC):\n",
    "            best_coefs = grid.best_estimator_.named_steps[best_keys[1]].coef_\n",
    "            best_features = grid.best_estimator_.named_steps[best_keys[0]].get_feature_names_out()\n",
    "        elif isinstance(grid.best_estimator_.named_steps[best_keys[1]], BernoulliNB):\n",
    "            best_coefs = grid.best_estimator_.named_steps[best_keys[1]].feature_log_prob_\n",
    "            best_features = grid.best_estimator_.named_steps[best_keys[0]].get_feature_names_out()\n",
    "        elif isinstance(grid.best_estimator_.named_steps[best_keys[1]], MultinomialNB):\n",
    "            best_coefs = grid.best_estimator_.named_steps[best_keys[1]].feature_log_prob_\n",
    "            best_features = grid.best_estimator_.named_steps[best_keys[0]].get_feature_names_out()\n",
    "    print(\"Best parameters set:\")\n",
    "    print(grid.best_estimator_.steps)\n",
    "    print(\"\\n\")\n",
    "    print(grid.best_score_)\n",
    "    print(\"\\n\")\n"
   ]
  },
  {
   "cell_type": "code",
   "execution_count": 50,
   "metadata": {},
   "outputs": [
    {
     "name": "stdout",
     "output_type": "stream",
     "text": [
      "              precision    recall  f1-score   support\n",
      "\n",
      "    Positive       0.92      0.80      0.85       865\n",
      "    Negative       0.82      0.93      0.87       886\n",
      "\n",
      "    accuracy                           0.87      1751\n",
      "   macro avg       0.87      0.86      0.86      1751\n",
      "weighted avg       0.87      0.87      0.86      1751\n",
      "\n"
     ]
    }
   ],
   "source": [
    "# create tf-idf with multinomial naive bayes\n",
    "pipeline_bnb_best = make_pipeline(TfidfVectorizer(binary = True), BernoulliNB(alpha = 0.1))\n",
    "\n",
    "# fit the pipeline\n",
    "pipeline_bnb_best.fit(X_train, Y_train)\n",
    "\n",
    "# get the prediction\n",
    "Y_pred = pipeline_bnb_best.predict(X_test)\n",
    "\n",
    "# view the classification report\n",
    "print(metrics.classification_report(Y_test, Y_pred, target_names = [\"Positive\", \"Negative\"]))"
   ]
  },
  {
   "cell_type": "code",
   "execution_count": 51,
   "metadata": {},
   "outputs": [
    {
     "name": "stdout",
     "output_type": "stream",
     "text": [
      "              precision    recall  f1-score   support\n",
      "\n",
      "    Positive       0.94      0.95      0.95       865\n",
      "    Negative       0.95      0.94      0.95       886\n",
      "\n",
      "    accuracy                           0.95      1751\n",
      "   macro avg       0.95      0.95      0.95      1751\n",
      "weighted avg       0.95      0.95      0.95      1751\n",
      "\n"
     ]
    }
   ],
   "source": [
    "# create tf-idf with multinomial naive bayes\n",
    "pipeline_mnb_best = make_pipeline(TfidfVectorizer(), MultinomialNB(alpha = 0.5))\n",
    "\n",
    "# fit the pipeline\n",
    "pipeline_mnb_best.fit(X_train, Y_train)\n",
    "\n",
    "# get the prediction\n",
    "Y_pred = pipeline_mnb_best.predict(X_test)\n",
    "\n",
    "# view the classification report\n",
    "print(metrics.classification_report(Y_test, Y_pred, target_names = [\"Positive\", \"Negative\"]))"
   ]
  },
  {
   "cell_type": "code",
   "execution_count": 52,
   "metadata": {},
   "outputs": [
    {
     "name": "stdout",
     "output_type": "stream",
     "text": [
      "              precision    recall  f1-score   support\n",
      "\n",
      "    Positive       0.96      0.97      0.97       865\n",
      "    Negative       0.97      0.96      0.97       886\n",
      "\n",
      "    accuracy                           0.97      1751\n",
      "   macro avg       0.97      0.97      0.97      1751\n",
      "weighted avg       0.97      0.97      0.97      1751\n",
      "\n"
     ]
    }
   ],
   "source": [
    "# create tf-idf with linear svc\n",
    "pipeline_lsvc_best = make_pipeline(TfidfVectorizer(), LinearSVC(C = 1, dual = False, random_state = 123))\n",
    "\n",
    "# fit the pipeline\n",
    "pipeline_lsvc_best.fit(X_train, Y_train)\n",
    "\n",
    "# get the prediction\n",
    "Y_pred = pipeline_lsvc_best.predict(X_test)\n",
    "\n",
    "# view the classification report\n",
    "print(metrics.classification_report(Y_test, Y_pred, target_names = [\"Positive\", \"Negative\"]))"
   ]
  },
  {
   "cell_type": "code",
   "execution_count": 84,
   "metadata": {},
   "outputs": [
    {
     "data": {
      "image/png": "[encoded data removed]",
      "text/plain": [
       "<Figure size 640x480 with 2 Axes>"
      ]
     },
     "metadata": {},
     "output_type": "display_data"
    }
   ],
   "source": [
    "cm = confusion_matrix(Y_test, Y_pred, labels = pipeline_lsvc_best.classes_)\n",
    "disp = ConfusionMatrixDisplay(confusion_matrix = cm, display_labels = pipeline_lsvc_best.classes_)\n",
    "plt.rc('font', size=18)\n",
    "disp.plot(cmap='magma') # Set the color map for the confusion matrix\n",
    "plt.show()\n"
   ]
  },
  {
   "cell_type": "code",
   "execution_count": 53,
   "metadata": {},
   "outputs": [
    {
     "data": {
      "image/png": "[encoded data removed]",
      "text/plain": [
       "<Figure size 640x480 with 2 Axes>"
      ]
     },
     "metadata": {},
     "output_type": "display_data"
    }
   ],
   "source": [
    "cm = confusion_matrix(Y_test, Y_pred, labels = pipeline_lsvc_best.classes_)\n",
    "disp = ConfusionMatrixDisplay(confusion_matrix = cm, display_labels = pipeline_lsvc_best.classes_)\n",
    "plt.rc('font', size = 18)\n",
    "disp.plot()\n",
    "plt.show()"
   ]
  },
  {
   "cell_type": "code",
   "execution_count": 54,
   "metadata": {},
   "outputs": [
    {
     "name": "stdout",
     "output_type": "stream",
     "text": [
      "AUC: 0.994\n"
     ]
    },
    {
     "data": {
      "image/png": "[encoded data removed]",
      "text/plain": [
       "<Figure size 900x900 with 1 Axes>"
      ]
     },
     "metadata": {},
     "output_type": "display_data"
    }
   ],
   "source": [
    "decision_scores = pipeline_lsvc_best.decision_function(X_test)\n",
    "fpr, tpr, thres = roc_curve(Y_test, decision_scores)\n",
    "print(\"AUC: {:.3f}\".format(roc_auc_score(Y_test, decision_scores)))\n",
    "\n",
    "# roc curve\n",
    "plt.figure(figsize = (9, 9))\n",
    "plt.plot(fpr, tpr, \"b\", label = \"Linear SVM\")\n",
    "plt.plot([0,1],[0,1], \"k--\", label = \"Random Guess\")\n",
    "plt.xlabel(\"False Positive Rate\")\n",
    "plt.ylabel(\"True Positive Rate\")\n",
    "plt.legend(loc = \"best\")\n",
    "plt.title(\"ROC curve\")\n",
    "plt.show()"
   ]
  },
  {
   "cell_type": "code",
   "execution_count": 55,
   "metadata": {},
   "outputs": [
    {
     "data": {
      "text/plain": [
       "43                    no reasonably priced set lunch menu\n",
       "83      they don have chef and they just warm the food...\n",
       "174     visited monsoon on friday th november with fri...\n",
       "196     while visiting london and staying in brick lan...\n",
       "205     if you have vegan in your group would recommen...\n",
       "258     my favourite place in hong kong for peking duc...\n",
       "281          nicest chinese restaurant have been in while\n",
       "287     vinegarry wine bored looking staff and all the...\n",
       "300     atmosphere is good however the food wa not ver...\n",
       "325     this wa my first time and ca not wait until th...\n",
       "337     this is small ramen restaurant waited so long ...\n",
       "386     could not recommend this restaurant highly enough\n",
       "468     nice sushi place just bit of the main walking ...\n",
       "483     the staff is bit untrained and difficult to ge...\n",
       "525     am very picky eater who dislike pork however s...\n",
       "532     certainly not for asian food gourmet tasteless...\n",
       "536     one nice thing wa that they added gratuity on ...\n",
       "545     traveling for work and my option were limited ...\n",
       "549     friendly expected tagine to be piece rather th...\n",
       "576     came here with large group for drink after bru...\n",
       "580     this is easily one of if not the best meal we ...\n",
       "633     went here because it wa close to the eiffel to...\n",
       "659     our lunch wa wonderful and not rushed we start...\n",
       "663     steak wa cook just the way requested medium ra...\n",
       "677     whenever we order schnitzel we tend to overest...\n",
       "725                           definitely le than expected\n",
       "727     the breakfast sandwich were incredible and no ...\n",
       "729     cosy cafe on popular street of haga they offer...\n",
       "763     great food and atmosphere the bofsandwich just...\n",
       "771     this used to be priority go to even though the...\n",
       "795     being living in shanghai have been in several ...\n",
       "842     this is the only pub around the area so worth ...\n",
       "892     long wait but good service for the moment mcdo...\n",
       "922                    really nice food for alright price\n",
       "980     the flavor is unbelievably wrong have metal fl...\n",
       "1039    very professional and kind service we took tes...\n",
       "1087    family of for dinner and service wa very good ...\n",
       "1093    it is really cute place with two floor then fe...\n",
       "1109    they were able to provide an pa friendly meal ...\n",
       "1125    the course or even more wa just mind blowing c...\n",
       "1128    just hec of lot of food with little flavor blo...\n",
       "1142    we went in unplanned based on high percentage ...\n",
       "1177    we the worst experience ever my family came to...\n",
       "1217    we had my birthday breakfast at mon ami gabi t...\n",
       "1221    lunched today and just about ok lovely people ...\n",
       "1258    we had jolly evening last sunday having tried ...\n",
       "1278    the restuarant ha made it way to world is top ...\n",
       "1370    this is the grossest restaurant have had the m...\n",
       "1439    their service is good but the food is not a go...\n",
       "1442     this is my second time and it did not dissapoint\n",
       "1476    good service and nice people but the food wa u...\n",
       "1501    the restaurant is cosy and the food is good ye...\n",
       "1572    our visit to the nd floor wa an absolute highl...\n",
       "1588    our waitress wa kind and asked about allergy b...\n",
       "1595    dropped in to the hyatt to meet someone pot of...\n",
       "1718    this iconic restaurant ha fallen beyond recogn...\n",
       "1728    had the lunch menu and it wa clearly not great...\n",
       "Name: Reviews_Cleaned, dtype: object"
      ]
     },
     "execution_count": 55,
     "metadata": {},
     "output_type": "execute_result"
    }
   ],
   "source": [
    "# get a missclassified review\n",
    "misclassified = (Y_pred != Y_test)\n",
    "X_test[misclassified]"
   ]
  },
  {
   "cell_type": "code",
   "execution_count": 56,
   "metadata": {},
   "outputs": [
    {
     "data": {
      "text/plain": [
       "Annotations                                                        0\n",
       "Reviews            They don‚Äôt have a chef and they just warm th...\n",
       "Reviews_Cleaned    they don have chef and they just warm the food...\n",
       "Name: 83, dtype: object"
      ]
     },
     "execution_count": 56,
     "metadata": {},
     "output_type": "execute_result"
    }
   ],
   "source": [
    "test_df.iloc[83]"
   ]
  },
  {
   "cell_type": "code",
   "execution_count": 57,
   "metadata": {},
   "outputs": [
    {
     "name": "stdout",
     "output_type": "stream",
     "text": [
      "They don‚Äôt have a chef and they just warm the foods because they‚Äôre already cooked it and it comes in packaged when you order they just warm the food and topped with oil to look nice\n"
     ]
    }
   ],
   "source": [
    "print(test_df[\"Reviews\"][83])"
   ]
  },
  {
   "cell_type": "code",
   "execution_count": 58,
   "metadata": {},
   "outputs": [
    {
     "data": {
      "text/plain": [
       "1"
      ]
     },
     "execution_count": 58,
     "metadata": {},
     "output_type": "execute_result"
    }
   ],
   "source": [
    "Y_pred[83]"
   ]
  },
  {
   "cell_type": "code",
   "execution_count": 59,
   "metadata": {},
   "outputs": [
    {
     "name": "stdout",
     "output_type": "stream",
     "text": [
      "AUC: 0.50\n"
     ]
    }
   ],
   "source": [
    "decision_scores = pipeline_dclf.predict_proba(X_test)[:, 1]\n",
    "# fpr, tpr, thres = roc_curve(Y_test, decision_scores)\n",
    "print(\"AUC: {:.2f}\".format(roc_auc_score(Y_test, decision_scores)))"
   ]
  },
  {
   "cell_type": "code",
   "execution_count": 60,
   "metadata": {},
   "outputs": [
    {
     "name": "stdout",
     "output_type": "stream",
     "text": [
      "AUC: 0.96\n"
     ]
    }
   ],
   "source": [
    "decision_scores = pipeline_bnb_best.predict_proba(X_test)[:, 1]\n",
    "fpr, tpr, thres = roc_curve(Y_test, decision_scores)\n",
    "print(\"AUC: {:.2f}\".format(roc_auc_score(Y_test, decision_scores)))"
   ]
  },
  {
   "cell_type": "code",
   "execution_count": 61,
   "metadata": {},
   "outputs": [
    {
     "name": "stdout",
     "output_type": "stream",
     "text": [
      "AUC: 0.99\n"
     ]
    }
   ],
   "source": [
    "decision_scores = pipeline_mnb_best.predict_proba(X_test)[:, 1]\n",
    "# fpr, tpr, thres = roc_curve(Y_test, decision_scores)\n",
    "print(\"AUC: {:.2f}\".format(roc_auc_score(Y_test, decision_scores)))"
   ]
  },
  {
   "cell_type": "markdown",
   "metadata": {},
   "source": [
    "## Feature Importance"
   ]
  },
  {
   "cell_type": "code",
   "execution_count": 76,
   "metadata": {},
   "outputs": [
    {
     "name": "stdout",
     "output_type": "stream",
     "text": [
      "\n",
      "Top 10 most important features:\n",
      "1. delicious (3.909487)\n",
      "2. excellent (3.629570)\n",
      "3. great (3.289118)\n",
      "4. amazing (3.027458)\n",
      "5. best (2.526588)\n",
      "6. good (2.433084)\n",
      "7. loved (2.117397)\n",
      "8. perfect (2.101899)\n",
      "9. love (2.017767)\n",
      "10. fantastic (1.953698)\n"
     ]
    }
   ],
   "source": [
    "# create tf-idf with linear svc\n",
    "pipeline_lsvc = make_pipeline(TfidfVectorizer(), LinearSVC(random_state = 123))\n",
    "\n",
    "# fit the pipeline\n",
    "pipeline_lsvc.fit(X_train, Y_train)\n",
    "\n",
    "# get the prediction\n",
    "Y_pred = pipeline_lsvc.predict(X_test)\n",
    "\n",
    "# get the vectorizer and feature names\n",
    "vectorizer = pipeline_lsvc.named_steps['tfidfvectorizer']\n",
    "feature_names = vectorizer.get_feature_names_out()\n",
    "\n",
    "# get the coefficients of the linear SVM model\n",
    "coef = pipeline_lsvc.named_steps['linearsvc'].coef_[0]\n",
    "\n",
    "# sort the feature importances in descending order\n",
    "importances = sorted(zip(coef, feature_names), reverse=True)[:10]\n",
    "\n",
    "# print the top 10 most important features\n",
    "print(\"\\nTop 10 most important features:\")\n",
    "for i, (coef, feature) in enumerate(importances):\n",
    "    print(\"%d. %s (%f)\" % (i + 1, feature, coef))\n",
    "\n"
   ]
  },
  {
   "cell_type": "code",
   "execution_count": 78,
   "metadata": {},
   "outputs": [
    {
     "data": {
      "image/png": "[encoded data removed]",
      "text/plain": [
       "<Figure size 1000x500 with 1 Axes>"
      ]
     },
     "metadata": {},
     "output_type": "display_data"
    }
   ],
   "source": [
    "import matplotlib.pyplot as plt\n",
    "\n",
    "# create tf-idf with linear svc\n",
    "pipeline_lsvc = make_pipeline(TfidfVectorizer(), LinearSVC(random_state = 123))\n",
    "\n",
    "# fit the pipeline\n",
    "pipeline_lsvc.fit(X_train, Y_train)\n",
    "\n",
    "# get the prediction\n",
    "Y_pred = pipeline_lsvc.predict(X_test)\n",
    "\n",
    "# get the vectorizer and feature names\n",
    "vectorizer = pipeline_lsvc.named_steps['tfidfvectorizer']\n",
    "feature_names = vectorizer.get_feature_names_out()\n",
    "\n",
    "# get the coefficients of the linear SVM model\n",
    "coef = pipeline_lsvc.named_steps['linearsvc'].coef_[0]\n",
    "\n",
    "# sort the feature importances in descending order\n",
    "importances = sorted(zip(coef, feature_names), reverse=True)[:10]\n",
    "\n",
    "# extract the feature names and coefficients\n",
    "feature_names = [f[1] for f in importances]\n",
    "coefficients = [f[0] for f in importances]\n",
    "\n",
    "# create a bar chart of the top features\n",
    "plt.figure(figsize=(10, 5))\n",
    "plt.bar(feature_names, coefficients, color='blue')\n",
    "plt.xticks(rotation=90)\n",
    "plt.xlabel('Features')\n",
    "plt.ylabel('Importance')\n",
    "plt.title('Top 10 Most Important Features')\n",
    "plt.show()\n"
   ]
  },
  {
   "cell_type": "code",
   "execution_count": 85,
   "metadata": {
    "scrolled": true
   },
   "outputs": [
    {
     "data": {
      "image/png": "[encoded data removed]",
      "text/plain": [
       "<Figure size 1000x500 with 1 Axes>"
      ]
     },
     "metadata": {},
     "output_type": "display_data"
    }
   ],
   "source": [
    "# create tf-idf with linear svc\n",
    "pipeline_lsvc = make_pipeline(TfidfVectorizer(), LinearSVC(random_state = 123))\n",
    "\n",
    "# fit the pipeline\n",
    "pipeline_lsvc.fit(X_train, Y_train)\n",
    "\n",
    "# get the prediction\n",
    "Y_pred = pipeline_lsvc.predict(X_test)\n",
    "\n",
    "# get the vectorizer and feature names\n",
    "vectorizer = pipeline_lsvc.named_steps['tfidfvectorizer']\n",
    "feature_names = vectorizer.get_feature_names_out()\n",
    "\n",
    "# get the coefficients of the linear SVM model\n",
    "coef = pipeline_lsvc.named_steps['linearsvc'].coef_[0]\n",
    "\n",
    "# sort the feature importances in ascending order\n",
    "importances = sorted(zip(coef, feature_names), key=lambda x: x[0])[:10]\n",
    "# extract the feature names and coefficients\n",
    "feature_names = [f[1] for f in importances]\n",
    "coefficients = [f[0] for f in importances]\n",
    "\n",
    "# create a bar chart of the top features\n",
    "plt.figure(figsize=(10, 5))\n",
    "plt.bar(feature_names, coefficients, color='blue')\n",
    "plt.xticks(rotation=90)\n",
    "plt.xlabel('Features')\n",
    "plt.ylabel('Importance')\n",
    "plt.title('Top 10 Most Important Features')\n",
    "plt.show()"
   ]
  },
  {
   "cell_type": "code",
   "execution_count": 121,
   "metadata": {
    "scrolled": true
   },
   "outputs": [
    {
     "data": {
      "image/png": "[encoded data removed]",
      "text/plain": [
       "<Figure size 700x500 with 1 Axes>"
      ]
     },
     "metadata": {},
     "output_type": "display_data"
    }
   ],
   "source": [
    "# create tf-idf with linear svc\n",
    "pipeline_lsvc = make_pipeline(TfidfVectorizer(), LinearSVC(random_state = 123))\n",
    "\n",
    "# fit the pipeline\n",
    "pipeline_lsvc.fit(X_train, Y_train)\n",
    "\n",
    "# get the prediction\n",
    "Y_pred = pipeline_lsvc.predict(X_test)\n",
    "\n",
    "# get the vectorizer and feature names\n",
    "vectorizer = pipeline_lsvc.named_steps['tfidfvectorizer']\n",
    "feature_names = vectorizer.get_feature_names_out()\n",
    "\n",
    "# get the coefficients of the linear SVM model\n",
    "coef = pipeline_lsvc.named_steps['linearsvc'].coef_[0]\n",
    "\n",
    "# sort the feature importances in ascending order\n",
    "importances = sorted(zip(coef, feature_names), key=lambda x: x[0])[:10]\n",
    "# extract the feature names and coefficients\n",
    "feature_names = [f[1] for f in importances]\n",
    "coefficients = [f[0] for f in importances]\n",
    "\n",
    "# create a bar chart of the top features\n",
    "plt.figure(figsize=(7, 5))\n",
    "plt.bar(feature_names, coefficients, color='blue')\n",
    "plt.xticks(rotation=90)\n",
    "plt.xlabel('Features')\n",
    "plt.ylabel('Importance')\n",
    "plt.title('Top 10 Most Important Features')\n",
    "\n",
    "# increase the size of the figure\n",
    "fig = plt.gcf()\n",
    "fig.set_size_inches(7, 5)\n",
    "\n",
    "# save the figure\n",
    "plt.savefig('gfg.png', dpi=100)\n",
    "\n",
    "plt.show()\n",
    "\n"
   ]
  }
 ],
 "metadata": {
  "kernelspec": {
   "display_name": "Python 3 (ipykernel)",
   "language": "python",
   "name": "python3"
  },
  "language_info": {
   "codemirror_mode": {
    "name": "ipython",
    "version": 3
   },
   "file_extension": ".py",
   "mimetype": "text/x-python",
   "name": "python",
   "nbconvert_exporter": "python",
   "pygments_lexer": "ipython3",
   "version": "3.8.18"
  }
 },
 "nbformat": 4,
 "nbformat_minor": 4
}
