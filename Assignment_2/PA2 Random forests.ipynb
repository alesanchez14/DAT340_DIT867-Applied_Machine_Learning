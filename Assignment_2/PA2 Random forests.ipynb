{
 "cells": [
  {
   "cell_type": "markdown",
   "metadata": {},
   "source": [
    "### Name: Irene Cánovas Vidal and Alejandra Sánchez Torres"
   ]
  },
  {
   "cell_type": "markdown",
   "metadata": {},
   "source": [
    "# Task 1: Working with a dataset with categorical features"
   ]
  },
  {
   "cell_type": "markdown",
   "metadata": {},
   "source": [
    "## Step 1. Reading the data"
   ]
  },
  {
   "cell_type": "code",
   "execution_count": 9,
   "metadata": {},
   "outputs": [],
   "source": [
    "import pandas as pd\n",
    "\n",
    "# Read in training and test datasets\n",
    "train_df = pd.read_csv('adult_train.csv')\n",
    "test_df = pd.read_csv('adult_test.csv')\n",
    "\n",
    "# Split data into input (X) and output (Y) parts\n",
    "X_train = train_df.drop(['target'], axis=1)\n",
    "Y_train = train_df['target']\n",
    "\n",
    "X_test = test_df.drop(['target'], axis=1)\n",
    "Y_test = test_df['target']\n"
   ]
  },
  {
   "cell_type": "markdown",
   "metadata": {},
   "source": [
    "## Step 2: Encoding the features as numbers."
   ]
  },
  {
   "cell_type": "code",
   "execution_count": 11,
   "metadata": {},
   "outputs": [],
   "source": [
    "from sklearn.feature_extraction import DictVectorizer\n",
    "\n",
    "# Convertir los datos de entrenamiento y prueba en diccionarios\n",
    "train_dict = X_train.to_dict('records')\n",
    "test_dict = X_test.to_dict('records')\n",
    "\n",
    "# Crear un objeto DictVectorizer\n",
    "vectorizer = DictVectorizer()\n",
    "\n",
    "# Convertir los diccionarios en matrices NumPy\n",
    "X_train_v = vectorizer.fit_transform(train_dict)\n",
    "X_test_v = vectorizer.transform(test_dict)\n"
   ]
  },
  {
   "cell_type": "markdown",
   "metadata": {},
   "source": [
    "## Step 3. Combining the steps."
   ]
  },
  {
   "cell_type": "code",
   "execution_count": 16,
   "metadata": {},
   "outputs": [
    {
     "name": "stdout",
     "output_type": "stream",
     "text": [
      "Accuracy: 81.82%\n"
     ]
    }
   ],
   "source": [
    "import pandas as pd\n",
    "from sklearn.pipeline import make_pipeline\n",
    "from sklearn.feature_extraction import DictVectorizer\n",
    "from sklearn.tree import DecisionTreeClassifier\n",
    "from sklearn.metrics import accuracy_score\n",
    "\n",
    "# Read in training and test datasets\n",
    "train_df = pd.read_csv('adult_train.csv')\n",
    "test_df = pd.read_csv('adult_test.csv')\n",
    "\n",
    "# Split data into input (X) and output (Y) parts\n",
    "X_train = train_df.drop(['target'], axis=1)\n",
    "Y_train = train_df['target']\n",
    "\n",
    "X_test = test_df.drop(['target'], axis=1)\n",
    "Y_test = test_df['target']\n",
    "\n",
    "# Create a pipeline that includes DictVectorizer and DecisionTreeClassifier\n",
    "pipeline = make_pipeline(\n",
    "    DictVectorizer(),\n",
    "    DecisionTreeClassifier()\n",
    ")\n",
    "\n",
    "# Fit the pipeline to the training data\n",
    "pipeline.fit(X_train.to_dict(orient='records'), Y_train)\n",
    "\n",
    "# Make predictions on the test set\n",
    "Y_pred = pipeline.predict(X_test.to_dict(orient='records'))\n",
    "\n",
    "# Calculate the accuracy of the model\n",
    "accuracy = accuracy_score(Y_test, Y_pred)\n",
    "print(\"Accuracy: {:.2f}%\".format(accuracy*100))\n"
   ]
  },
  {
   "cell_type": "markdown",
   "metadata": {},
   "source": [
    "# Task 2: Decision trees and random forests"
   ]
  },
  {
   "cell_type": "markdown",
   "metadata": {},
   "source": [
    "## Underfitting and overfitting in decision tree classifiers."
   ]
  },
  {
   "cell_type": "code",
   "execution_count": 28,
   "metadata": {},
   "outputs": [
    {
     "data": {
      "image/png": "[encoded data removed]",
      "text/plain": [
       "<Figure size 720x432 with 1 Axes>"
      ]
     },
     "metadata": {
      "needs_background": "light"
     },
     "output_type": "display_data"
    }
   ],
   "source": [
    "import pandas as pd\n",
    "import numpy as np\n",
    "from sklearn.pipeline import make_pipeline\n",
    "from sklearn.feature_extraction import DictVectorizer\n",
    "from sklearn.tree import DecisionTreeClassifier\n",
    "from sklearn.metrics import accuracy_score\n",
    "from sklearn.model_selection import cross_val_score\n",
    "\n",
    "# Read in training and test datasets\n",
    "train_df = pd.read_csv('adult_train.csv')\n",
    "test_df = pd.read_csv('adult_test.csv')\n",
    "\n",
    "# Convert target variable to numerical using label encoding\n",
    "train_df['target'] = train_df['target'].map({'<=50K': 0, '>50K': 1})\n",
    "test_df['target'] = test_df['target'].map({'<=50K': 0, '>50K': 1})\n",
    "\n",
    "# Split data into input (X) and output (Y) parts\n",
    "X_train = train_df.drop(['target'], axis=1)\n",
    "Y_train = train_df['target']\n",
    "\n",
    "X_test = test_df.drop(['target'], axis=1)\n",
    "Y_test = test_df['target']\n",
    "\n",
    "# Create a pipeline that includes DictVectorizer and DecisionTreeClassifier\n",
    "pipeline = make_pipeline(\n",
    "    DictVectorizer(),\n",
    "    DecisionTreeClassifier(random_state=0)\n",
    ")\n",
    "\n",
    "# Define a range of max depths to investigate\n",
    "max_depths = [1, 2, 4, 8, 16]\n",
    "\n",
    "# Initialize arrays to store the cross-validation scores\n",
    "train_scores = np.zeros(len(max_depths))\n",
    "test_scores = np.zeros(len(max_depths))\n",
    "\n",
    "# Loop over the max depths and compute the cross-validation scores\n",
    "for i, d in enumerate(max_depths):\n",
    "    # Set the maximum depth of the decision tree\n",
    "    pipeline.set_params(decisiontreeclassifier__max_depth=d)\n",
    "    \n",
    "    # Compute the cross-validation scores for the training and testing sets\n",
    "    train_scores[i] = np.mean(cross_val_score(pipeline, X_train.to_dict(orient='records'), Y_train, cv=10, scoring='accuracy'))\n",
    "    test_scores[i] = np.mean(cross_val_score(pipeline, X_test.to_dict(orient='records'), Y_test, cv=10, scoring='accuracy', n_jobs=-1))\n",
    "\n",
    "# Plot the results\n",
    "fig, ax = plt.subplots(figsize=(10, 6))\n",
    "\n",
    "ax.plot(max_depths, train_scores, label='Train', linestyle='--', marker='o')\n",
    "ax.plot(max_depths, test_scores, label='Test', linestyle='-', marker='o')\n",
    "\n",
    "ax.set_xlabel('Max depth')\n",
    "ax.set_ylabel('Accuracy')\n",
    "ax.set_ylim([0.5, 1.0])\n",
    "ax.legend()\n",
    "plt.show()\n",
    "\n"
   ]
  },
  {
   "cell_type": "markdown",
   "metadata": {},
   "source": [
    "The resulting plot shows a similar effect as in the regression example: the training accuracy increases with the depth of the decision tree, but the test accuracy plateaus and eventually decreases, indicating that the model starts to overfit to the training data.\n",
    "\n",
    "Overall, this experiment illustrates the importance of selecting an appropriate model complexity, since a model that is too simple (underfitting) will have poor predictive performance, but a model that is too complex (overfitting) will generalize poorly to new data."
   ]
  },
  {
   "cell_type": "markdown",
   "metadata": {},
   "source": [
    "## Underfitting and overfitting in random forest classifiers."
   ]
  },
  {
   "cell_type": "code",
   "execution_count": 37,
   "metadata": {},
   "outputs": [
    {
     "data": {
      "image/png": "[encoded data removed]",
      "text/plain": [
       "<Figure size 720x432 with 1 Axes>"
      ]
     },
     "metadata": {
      "needs_background": "light"
     },
     "output_type": "display_data"
    }
   ],
   "source": [
    "import pandas as pd\n",
    "import numpy as np\n",
    "from sklearn.pipeline import make_pipeline\n",
    "from sklearn.feature_extraction import DictVectorizer\n",
    "from sklearn.ensemble import RandomForestClassifier\n",
    "from sklearn.metrics import mean_absolute_error\n",
    "from sklearn.model_selection import cross_val_score\n",
    "import matplotlib.pyplot as plt\n",
    "\n",
    "# Read in training and test datasets\n",
    "train_df = pd.read_csv('adult_train.csv')\n",
    "test_df = pd.read_csv('adult_test.csv')\n",
    "\n",
    "# Convert target variable to numerical using label encoding\n",
    "train_df['target'] = train_df['target'].map({'<=50K': 0, '>50K': 1})\n",
    "test_df['target'] = test_df['target'].map({'<=50K': 0, '>50K': 1})\n",
    "\n",
    "# Split data into input (X) and output (Y) parts\n",
    "X_train = train_df.drop(['target'], axis=1)\n",
    "Y_train = train_df['target']\n",
    "\n",
    "X_test = test_df.drop(['target'], axis=1)\n",
    "Y_test = test_df['target']\n",
    "\n",
    "# Define a range of ensemble sizes to investigate\n",
    "n_trees = [1, 2, 4, 8, 16]\n",
    "\n",
    "# Create a pipeline that includes DictVectorizer and RandomForestClassifier\n",
    "pipeline = make_pipeline(\n",
    "    DictVectorizer(),\n",
    "    RandomForestClassifier(random_state=0)\n",
    ")\n",
    "\n",
    "# Initialize arrays to store the cross-validation scores\n",
    "train_scores = np.zeros(len(n_trees))\n",
    "test_scores = np.zeros(len(n_trees))\n",
    "\n",
    "# Loop over the ensemble sizes and compute the cross-validation scores\n",
    "for i, n in enumerate(n_trees):\n",
    "    # Set the number of trees in the random forest\n",
    "    pipeline.set_params(randomforestclassifier__n_estimators=n)\n",
    "    \n",
    "    # Compute the cross-validation scores for the training and testing sets\n",
    "    train_scores[i] = np.mean(cross_val_score(pipeline, X_train.to_dict(orient='records'), Y_train, cv=10, scoring='accuracy'))\n",
    "    test_scores[i] = np.mean(cross_val_score(pipeline, X_test.to_dict(orient='records'), Y_test, cv=10, scoring='accuracy', n_jobs=-1))\n",
    "\n",
    "# Plot the results\n",
    "fig, ax = plt.subplots(figsize=(10, 6))\n",
    "\n",
    "ax.plot(n_trees, train_scores, label='Train', linestyle='--', marker='o')\n",
    "ax.plot(n_trees, test_scores, label='Test', linestyle='-', marker='o')\n",
    "\n",
    "ax.set_xlabel('Number of trees')\n",
    "ax.set_ylabel('Accuracy')\n",
    "ax.legend()\n",
    "plt.show()"
   ]
  },
  {
   "cell_type": "markdown",
   "metadata": {},
   "source": [
    "**What's the difference between the curve for a decision tree and for a random forest with an ensemble size of 1, and why do we see this difference?**\n",
    "\n",
    "The curve for a decision tree and for a random forest with an ensemble size of 1 can be different due to the high variance of decision trees. A decision tree can easily overfit to the training data, resulting in a high training set accuracy and a low test set accuracy. On the other hand, a random forest with only one tree will not have the same level of overfitting due to the randomization of features and samples, but it may still suffer from high variance. Therefore, we can expect the random forest with an ensemble size of 1 to have a slightly higher test set accuracy than a decision tree, but the difference may not be significant.\n",
    "\n",
    "\n",
    "**What happens with the curve for random forests as the ensemble size grows?**\n",
    "\n",
    "As the ensemble size of a random forest grows, the performance generally improves, up to a point. The curve for the random forest becomes smoother and more stable, as the averaging effect of the ensemble reduces the variance of the model. However, after a certain point, increasing the ensemble size may not lead to a significant improvement in performance, and it may even lead to overfitting.\n",
    "\n",
    "\n",
    "**What happens with the best observed test set accuracy as the ensemble size grows?**\n",
    "\n",
    "The best observed test set accuracy generally improves as the ensemble size of a random forest grows, up to a certain point. This is because the random forest is able to reduce the variance of the model by averaging the predictions of multiple trees. However, after a certain point, increasing the ensemble size may not lead to a significant improvement in performance, and it may even lead to overfitting. Therefore, it is important to choose an appropriate ensemble size based on the performance on the validation set.\n",
    "\n",
    "\n",
    "**What happens with the training time as the ensemble size grows?**\n",
    "\n",
    "The training time generally increases as the ensemble size of a random forest grows. This is because training each tree in the forest requires processing a subset of the training data and a random subset of features. Therefore, as the ensemble size grows, the amount of data and features processed increases, leading to longer training times. However, the training time of a random forest can be reduced by parallelizing the training process across multiple CPUs or GPUs.\n"
   ]
  },
  {
   "cell_type": "markdown",
   "metadata": {},
   "source": [
    "# Task 3: Feature importances in random forest classifiers"
   ]
  },
  {
   "cell_type": "code",
   "execution_count": 35,
   "metadata": {},
   "outputs": [
    {
     "name": "stdout",
     "output_type": "stream",
     "text": [
      "age: 0.23053890232823845\n",
      "workclass=Private: 0.14094107441031797\n",
      "relationship=Husband: 0.1184204884768103\n",
      "occupation=Transport-moving: 0.07229141327672083\n",
      "education-num: 0.04220039390406214\n",
      "education=Some-college: 0.04025855549365053\n",
      "education=Preschool: 0.02850206308189041\n",
      "native-country=Cambodia: 0.02487699497921526\n",
      "native-country=Poland: 0.02234797077304398\n",
      "marital-status=Married-AF-spouse: 0.01938092356470559\n"
     ]
    }
   ],
   "source": [
    "import pandas as pd\n",
    "import numpy as np\n",
    "from sklearn.pipeline import make_pipeline\n",
    "from sklearn.feature_extraction import DictVectorizer\n",
    "from sklearn.ensemble import RandomForestClassifier\n",
    "from sklearn.metrics import accuracy_score\n",
    "from sklearn.model_selection import cross_val_score\n",
    "\n",
    "# Read in training and test datasets\n",
    "train_df = pd.read_csv('adult_train.csv')\n",
    "test_df = pd.read_csv('adult_test.csv')\n",
    "\n",
    "# Convert target variable to numerical using label encoding\n",
    "train_df['target'] = train_df['target'].map({'<=50K': 0, '>50K': 1})\n",
    "test_df['target'] = test_df['target'].map({'<=50K': 0, '>50K': 1})\n",
    "\n",
    "# Split data into input (X) and output (Y) parts\n",
    "X_train = train_df.drop(['target'], axis=1)\n",
    "Y_train = train_df['target']\n",
    "\n",
    "X_test = test_df.drop(['target'], axis=1)\n",
    "Y_test = test_df['target']\n",
    "\n",
    "# Define pipeline\n",
    "pipeline = make_pipeline(\n",
    "    DictVectorizer(),\n",
    "    RandomForestClassifier(n_estimators=4, random_state=42)\n",
    ")\n",
    "\n",
    "# Fit the pipeline on the training data\n",
    "pipeline.fit(X_train.to_dict(orient='records'), Y_train)\n",
    "\n",
    "# Extract feature importances from the final step in the pipeline\n",
    "importances = pipeline.steps[-1][1].feature_importances_\n",
    "\n",
    "# Get feature names from the DictVectorizer\n",
    "feature_names = pipeline.steps[0][1].vocabulary_.keys()\n",
    "\n",
    "# Create a list of (feature, importance) tuples and sort by importance in descending order\n",
    "feature_importances = sorted(zip(feature_names, importances), key=lambda x: x[1], reverse=True)\n",
    "\n",
    "# Print the top 10 most important features\n",
    "for feature, importance in feature_importances[:10]:\n",
    "    print(f\"{feature}: {importance}\")\n"
   ]
  },
  {
   "cell_type": "markdown",
   "metadata": {},
   "source": [
    "This code should print the top 10 most important features along with their importance scores, sorted in descending order."
   ]
  },
  {
   "cell_type": "markdown",
   "metadata": {},
   "source": [
    "The feature importance scores indicate the relative importance of each feature in the model for making predictions. The feature with the highest importance score is the most important one and the feature with the lowest importance score is the least important one.\n",
    "\n",
    "Looking at the top features, we can see that age is the most important feature in this model, which makes sense given that age is often a strong predictor of income. The second most important feature is workclass, specifically when it is Private, suggesting that whether or not someone works in the private sector is a good indicator of their income level.\n",
    "\n",
    "The third most important feature is relationship, specifically when it is Husband, which suggests that being married and being the husband in the relationship are associated with higher income levels. Occupation is also an important feature, with Transport-moving being the most important occupation in this model.\n",
    "\n",
    "Overall, the feature importance scores suggest that the model is taking into account a mix of demographic, employment, and educational factors when making income predictions."
   ]
  },
  {
   "cell_type": "markdown",
   "metadata": {},
   "source": [
    "One alternative way to compute feature importance scores is by using permutation importance. Permutation importance measures the importance of each feature by randomly shuffling the values of that feature in the test set and evaluating the decrease in the model's performance (accuracy or F1-score). The idea is that if shuffling the values of a feature results in a significant decrease in model performance, then that feature is considered important. This method has the advantage of being model-agnostic and can be applied to any type of model. However, it can be computationally expensive, especially for models that require a lot of time to train."
   ]
  },
  {
   "cell_type": "code",
   "execution_count": null,
   "metadata": {},
   "outputs": [],
   "source": []
  }
 ],
 "metadata": {
  "kernelspec": {
   "display_name": "Python 3 (ipykernel)",
   "language": "python",
   "name": "python3"
  },
  "language_info": {
   "codemirror_mode": {
    "name": "ipython",
    "version": 3
   },
   "file_extension": ".py",
   "mimetype": "text/x-python",
   "name": "python",
   "nbconvert_exporter": "python",
   "pygments_lexer": "ipython3",
   "version": "3.8.18"
  }
 },
 "nbformat": 4,
 "nbformat_minor": 4
}
